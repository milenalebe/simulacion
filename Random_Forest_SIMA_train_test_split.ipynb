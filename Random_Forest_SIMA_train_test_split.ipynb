{
  "nbformat": 4,
  "nbformat_minor": 0,
  "metadata": {
    "kernelspec": {
      "display_name": "Python 3",
      "language": "python",
      "name": "python3"
    },
    "language_info": {
      "codemirror_mode": {
        "name": "ipython",
        "version": 3
      },
      "file_extension": ".py",
      "mimetype": "text/x-python",
      "name": "python",
      "nbconvert_exporter": "python",
      "pygments_lexer": "ipython3",
      "version": "3.8.5"
    },
    "colab": {
      "name": "Random Forest SIMA train_test_split.ipynb",
      "provenance": [],
      "include_colab_link": true
    }
  },
  "cells": [
    {
      "cell_type": "markdown",
      "metadata": {
        "id": "view-in-github",
        "colab_type": "text"
      },
      "source": [
        "<a href=\"https://colab.research.google.com/github/milenalebe/simulacion/blob/master/Random_Forest_SIMA_train_test_split.ipynb\" target=\"_parent\"><img src=\"https://colab.research.google.com/assets/colab-badge.svg\" alt=\"Open In Colab\"/></a>"
      ]
    },
    {
      "cell_type": "code",
      "metadata": {
        "id": "Vl5cEp8E5t3A"
      },
      "source": [
        "import pandas as pd\n",
        "import numpy as np\n",
        "import seaborn as sns\n",
        "import matplotlib.pyplot as plt"
      ],
      "execution_count": 40,
      "outputs": []
    },
    {
      "cell_type": "code",
      "metadata": {
        "id": "qg3umG9l5t3M"
      },
      "source": [
        "pd.set_option('display.max.columns', 100)"
      ],
      "execution_count": 41,
      "outputs": []
    },
    {
      "cell_type": "code",
      "metadata": {
        "id": "N2ses6KE5t3N",
        "colab": {
          "base_uri": "https://localhost:8080/",
          "height": 326
        },
        "outputId": "3e1495ce-4970-47c9-ad2c-4a2839b9b4fa"
      },
      "source": [
        "df = pd.read_csv('data.csv')\n",
        "df.head()"
      ],
      "execution_count": 42,
      "outputs": [
        {
          "output_type": "execute_result",
          "data": {
            "text/html": [
              "<div>\n",
              "<style scoped>\n",
              "    .dataframe tbody tr th:only-of-type {\n",
              "        vertical-align: middle;\n",
              "    }\n",
              "\n",
              "    .dataframe tbody tr th {\n",
              "        vertical-align: top;\n",
              "    }\n",
              "\n",
              "    .dataframe thead th {\n",
              "        text-align: right;\n",
              "    }\n",
              "</style>\n",
              "<table border=\"1\" class=\"dataframe\">\n",
              "  <thead>\n",
              "    <tr style=\"text-align: right;\">\n",
              "      <th></th>\n",
              "      <th>Unnamed: 0</th>\n",
              "      <th>id</th>\n",
              "      <th>Zones</th>\n",
              "      <th>Crop</th>\n",
              "      <th>Yield</th>\n",
              "      <th>Variety</th>\n",
              "      <th>Management</th>\n",
              "      <th>Plnt Date</th>\n",
              "      <th>Lon</th>\n",
              "      <th>Lat</th>\n",
              "      <th>Area</th>\n",
              "      <th>source</th>\n",
              "      <th>cloud</th>\n",
              "      <th>mtci</th>\n",
              "      <th>gcvi</th>\n",
              "      <th>ndvi</th>\n",
              "      <th>dvi</th>\n",
              "      <th>evi</th>\n",
              "      <th>date</th>\n",
              "      <th>t2m</th>\n",
              "      <th>t2m_max</th>\n",
              "      <th>t2m_min</th>\n",
              "      <th>prectot</th>\n",
              "    </tr>\n",
              "  </thead>\n",
              "  <tbody>\n",
              "    <tr>\n",
              "      <th>0</th>\n",
              "      <td>0.0</td>\n",
              "      <td>10382.0</td>\n",
              "      <td>VI</td>\n",
              "      <td>Maiz</td>\n",
              "      <td>10800.0</td>\n",
              "      <td>NaN</td>\n",
              "      <td>De primera</td>\n",
              "      <td>10/6/2016 0:00</td>\n",
              "      <td>-62.1793</td>\n",
              "      <td>-32.4368</td>\n",
              "      <td>114.0</td>\n",
              "      <td>Sentinel-2</td>\n",
              "      <td>0.0</td>\n",
              "      <td>8.576897</td>\n",
              "      <td>6.639699</td>\n",
              "      <td>0.847529</td>\n",
              "      <td>0.369461</td>\n",
              "      <td>0.623057</td>\n",
              "      <td>1/10/2017</td>\n",
              "      <td>22.76</td>\n",
              "      <td>29.55</td>\n",
              "      <td>16.99</td>\n",
              "      <td>0.14</td>\n",
              "    </tr>\n",
              "    <tr>\n",
              "      <th>1</th>\n",
              "      <td>1.0</td>\n",
              "      <td>10382.0</td>\n",
              "      <td>VI</td>\n",
              "      <td>Maiz</td>\n",
              "      <td>10800.0</td>\n",
              "      <td>NaN</td>\n",
              "      <td>De primera</td>\n",
              "      <td>10/6/2016 0:00</td>\n",
              "      <td>-62.1793</td>\n",
              "      <td>-32.4368</td>\n",
              "      <td>114.0</td>\n",
              "      <td>NaN</td>\n",
              "      <td>NaN</td>\n",
              "      <td>NaN</td>\n",
              "      <td>NaN</td>\n",
              "      <td>NaN</td>\n",
              "      <td>NaN</td>\n",
              "      <td>NaN</td>\n",
              "      <td>1/11/2017</td>\n",
              "      <td>23.60</td>\n",
              "      <td>30.00</td>\n",
              "      <td>16.32</td>\n",
              "      <td>0.00</td>\n",
              "    </tr>\n",
              "    <tr>\n",
              "      <th>2</th>\n",
              "      <td>2.0</td>\n",
              "      <td>10382.0</td>\n",
              "      <td>VI</td>\n",
              "      <td>Maiz</td>\n",
              "      <td>10800.0</td>\n",
              "      <td>NaN</td>\n",
              "      <td>De primera</td>\n",
              "      <td>10/6/2016 0:00</td>\n",
              "      <td>-62.1793</td>\n",
              "      <td>-32.4368</td>\n",
              "      <td>114.0</td>\n",
              "      <td>NaN</td>\n",
              "      <td>NaN</td>\n",
              "      <td>NaN</td>\n",
              "      <td>NaN</td>\n",
              "      <td>NaN</td>\n",
              "      <td>NaN</td>\n",
              "      <td>NaN</td>\n",
              "      <td>1/12/2017</td>\n",
              "      <td>26.25</td>\n",
              "      <td>30.00</td>\n",
              "      <td>18.14</td>\n",
              "      <td>0.00</td>\n",
              "    </tr>\n",
              "    <tr>\n",
              "      <th>3</th>\n",
              "      <td>3.0</td>\n",
              "      <td>10382.0</td>\n",
              "      <td>VI</td>\n",
              "      <td>Maiz</td>\n",
              "      <td>10800.0</td>\n",
              "      <td>NaN</td>\n",
              "      <td>De primera</td>\n",
              "      <td>10/6/2016 0:00</td>\n",
              "      <td>-62.1793</td>\n",
              "      <td>-32.4368</td>\n",
              "      <td>114.0</td>\n",
              "      <td>NaN</td>\n",
              "      <td>NaN</td>\n",
              "      <td>NaN</td>\n",
              "      <td>NaN</td>\n",
              "      <td>NaN</td>\n",
              "      <td>NaN</td>\n",
              "      <td>NaN</td>\n",
              "      <td>1/13/2017</td>\n",
              "      <td>25.06</td>\n",
              "      <td>30.00</td>\n",
              "      <td>20.32</td>\n",
              "      <td>0.60</td>\n",
              "    </tr>\n",
              "    <tr>\n",
              "      <th>4</th>\n",
              "      <td>4.0</td>\n",
              "      <td>10382.0</td>\n",
              "      <td>VI</td>\n",
              "      <td>Maiz</td>\n",
              "      <td>10800.0</td>\n",
              "      <td>NaN</td>\n",
              "      <td>De primera</td>\n",
              "      <td>10/6/2016 0:00</td>\n",
              "      <td>-62.1793</td>\n",
              "      <td>-32.4368</td>\n",
              "      <td>114.0</td>\n",
              "      <td>NaN</td>\n",
              "      <td>NaN</td>\n",
              "      <td>NaN</td>\n",
              "      <td>NaN</td>\n",
              "      <td>NaN</td>\n",
              "      <td>NaN</td>\n",
              "      <td>NaN</td>\n",
              "      <td>1/14/2017</td>\n",
              "      <td>24.17</td>\n",
              "      <td>30.00</td>\n",
              "      <td>17.68</td>\n",
              "      <td>11.12</td>\n",
              "    </tr>\n",
              "  </tbody>\n",
              "</table>\n",
              "</div>"
            ],
            "text/plain": [
              "   Unnamed: 0       id Zones  Crop    Yield Variety  Management  \\\n",
              "0         0.0  10382.0    VI  Maiz  10800.0     NaN  De primera   \n",
              "1         1.0  10382.0    VI  Maiz  10800.0     NaN  De primera   \n",
              "2         2.0  10382.0    VI  Maiz  10800.0     NaN  De primera   \n",
              "3         3.0  10382.0    VI  Maiz  10800.0     NaN  De primera   \n",
              "4         4.0  10382.0    VI  Maiz  10800.0     NaN  De primera   \n",
              "\n",
              "        Plnt Date      Lon      Lat   Area      source  cloud      mtci  \\\n",
              "0  10/6/2016 0:00 -62.1793 -32.4368  114.0  Sentinel-2    0.0  8.576897   \n",
              "1  10/6/2016 0:00 -62.1793 -32.4368  114.0         NaN    NaN       NaN   \n",
              "2  10/6/2016 0:00 -62.1793 -32.4368  114.0         NaN    NaN       NaN   \n",
              "3  10/6/2016 0:00 -62.1793 -32.4368  114.0         NaN    NaN       NaN   \n",
              "4  10/6/2016 0:00 -62.1793 -32.4368  114.0         NaN    NaN       NaN   \n",
              "\n",
              "       gcvi      ndvi       dvi       evi       date    t2m  t2m_max  t2m_min  \\\n",
              "0  6.639699  0.847529  0.369461  0.623057  1/10/2017  22.76    29.55    16.99   \n",
              "1       NaN       NaN       NaN       NaN  1/11/2017  23.60    30.00    16.32   \n",
              "2       NaN       NaN       NaN       NaN  1/12/2017  26.25    30.00    18.14   \n",
              "3       NaN       NaN       NaN       NaN  1/13/2017  25.06    30.00    20.32   \n",
              "4       NaN       NaN       NaN       NaN  1/14/2017  24.17    30.00    17.68   \n",
              "\n",
              "   prectot  \n",
              "0     0.14  \n",
              "1     0.00  \n",
              "2     0.00  \n",
              "3     0.60  \n",
              "4    11.12  "
            ]
          },
          "metadata": {
            "tags": []
          },
          "execution_count": 42
        }
      ]
    },
    {
      "cell_type": "markdown",
      "metadata": {
        "id": "PM2WCc3c5t3O"
      },
      "source": [
        "## Limpieza de datos"
      ]
    },
    {
      "cell_type": "markdown",
      "metadata": {
        "id": "dy6uFad35t3P"
      },
      "source": [
        "Set de entrenamiento"
      ]
    },
    {
      "cell_type": "code",
      "metadata": {
        "id": "ZiuLhpuJ5t3P"
      },
      "source": [
        "# Eliminamos columnas innecesarias\n",
        "df.drop(columns=['Unnamed: 0', 'cloud', 'source', 'dvi', 'Variety'], inplace=True)"
      ],
      "execution_count": 43,
      "outputs": []
    },
    {
      "cell_type": "code",
      "metadata": {
        "id": "xAgUskkd5t3Q"
      },
      "source": [
        "# Eliminamos filas completamente nulas \n",
        "# df.drop(df.loc[595152:].index, inplace=True)\n",
        "df.dropna(how='all', inplace=True)"
      ],
      "execution_count": 44,
      "outputs": []
    },
    {
      "cell_type": "code",
      "metadata": {
        "id": "ywJSZvFQ5t3Q"
      },
      "source": [
        "# Poner fechas en formato datetime\n",
        "df['date'] = pd.to_datetime(df['date'])\n",
        "df['Plnt Date'] = pd.to_datetime(df['Plnt Date'])"
      ],
      "execution_count": 45,
      "outputs": []
    },
    {
      "cell_type": "code",
      "metadata": {
        "id": "jq0bsiym5t3R",
        "colab": {
          "base_uri": "https://localhost:8080/",
          "height": 326
        },
        "outputId": "6782bf59-a914-46c3-c38d-85a7d54dd298"
      },
      "source": [
        "# Ordenar los valores por campo y por fecha c/u para poder rellenar los indices nan\n",
        "df.sort_values(by=['id','date'], inplace=True)\n",
        "df.head()"
      ],
      "execution_count": 46,
      "outputs": [
        {
          "output_type": "execute_result",
          "data": {
            "text/html": [
              "<div>\n",
              "<style scoped>\n",
              "    .dataframe tbody tr th:only-of-type {\n",
              "        vertical-align: middle;\n",
              "    }\n",
              "\n",
              "    .dataframe tbody tr th {\n",
              "        vertical-align: top;\n",
              "    }\n",
              "\n",
              "    .dataframe thead th {\n",
              "        text-align: right;\n",
              "    }\n",
              "</style>\n",
              "<table border=\"1\" class=\"dataframe\">\n",
              "  <thead>\n",
              "    <tr style=\"text-align: right;\">\n",
              "      <th></th>\n",
              "      <th>id</th>\n",
              "      <th>Zones</th>\n",
              "      <th>Crop</th>\n",
              "      <th>Yield</th>\n",
              "      <th>Management</th>\n",
              "      <th>Plnt Date</th>\n",
              "      <th>Lon</th>\n",
              "      <th>Lat</th>\n",
              "      <th>Area</th>\n",
              "      <th>mtci</th>\n",
              "      <th>gcvi</th>\n",
              "      <th>ndvi</th>\n",
              "      <th>evi</th>\n",
              "      <th>date</th>\n",
              "      <th>t2m</th>\n",
              "      <th>t2m_max</th>\n",
              "      <th>t2m_min</th>\n",
              "      <th>prectot</th>\n",
              "    </tr>\n",
              "  </thead>\n",
              "  <tbody>\n",
              "    <tr>\n",
              "      <th>111302</th>\n",
              "      <td>10367.0</td>\n",
              "      <td>VII</td>\n",
              "      <td>Soja</td>\n",
              "      <td>5115.0</td>\n",
              "      <td>De primera</td>\n",
              "      <td>2016-11-07</td>\n",
              "      <td>-62.2210</td>\n",
              "      <td>-36.1245</td>\n",
              "      <td>174.0</td>\n",
              "      <td>9.236102</td>\n",
              "      <td>14.021510</td>\n",
              "      <td>0.950764</td>\n",
              "      <td>0.906766</td>\n",
              "      <td>2017-02-06</td>\n",
              "      <td>17.00</td>\n",
              "      <td>23.56</td>\n",
              "      <td>10.00</td>\n",
              "      <td>0.09</td>\n",
              "    </tr>\n",
              "    <tr>\n",
              "      <th>0</th>\n",
              "      <td>10382.0</td>\n",
              "      <td>VI</td>\n",
              "      <td>Maiz</td>\n",
              "      <td>10800.0</td>\n",
              "      <td>De primera</td>\n",
              "      <td>2016-10-06</td>\n",
              "      <td>-62.1793</td>\n",
              "      <td>-32.4368</td>\n",
              "      <td>114.0</td>\n",
              "      <td>8.576897</td>\n",
              "      <td>6.639699</td>\n",
              "      <td>0.847529</td>\n",
              "      <td>0.623057</td>\n",
              "      <td>2017-01-10</td>\n",
              "      <td>22.76</td>\n",
              "      <td>29.55</td>\n",
              "      <td>16.99</td>\n",
              "      <td>0.14</td>\n",
              "    </tr>\n",
              "    <tr>\n",
              "      <th>1</th>\n",
              "      <td>10382.0</td>\n",
              "      <td>VI</td>\n",
              "      <td>Maiz</td>\n",
              "      <td>10800.0</td>\n",
              "      <td>De primera</td>\n",
              "      <td>2016-10-06</td>\n",
              "      <td>-62.1793</td>\n",
              "      <td>-32.4368</td>\n",
              "      <td>114.0</td>\n",
              "      <td>NaN</td>\n",
              "      <td>NaN</td>\n",
              "      <td>NaN</td>\n",
              "      <td>NaN</td>\n",
              "      <td>2017-01-11</td>\n",
              "      <td>23.60</td>\n",
              "      <td>30.00</td>\n",
              "      <td>16.32</td>\n",
              "      <td>0.00</td>\n",
              "    </tr>\n",
              "    <tr>\n",
              "      <th>2</th>\n",
              "      <td>10382.0</td>\n",
              "      <td>VI</td>\n",
              "      <td>Maiz</td>\n",
              "      <td>10800.0</td>\n",
              "      <td>De primera</td>\n",
              "      <td>2016-10-06</td>\n",
              "      <td>-62.1793</td>\n",
              "      <td>-32.4368</td>\n",
              "      <td>114.0</td>\n",
              "      <td>NaN</td>\n",
              "      <td>NaN</td>\n",
              "      <td>NaN</td>\n",
              "      <td>NaN</td>\n",
              "      <td>2017-01-12</td>\n",
              "      <td>26.25</td>\n",
              "      <td>30.00</td>\n",
              "      <td>18.14</td>\n",
              "      <td>0.00</td>\n",
              "    </tr>\n",
              "    <tr>\n",
              "      <th>3</th>\n",
              "      <td>10382.0</td>\n",
              "      <td>VI</td>\n",
              "      <td>Maiz</td>\n",
              "      <td>10800.0</td>\n",
              "      <td>De primera</td>\n",
              "      <td>2016-10-06</td>\n",
              "      <td>-62.1793</td>\n",
              "      <td>-32.4368</td>\n",
              "      <td>114.0</td>\n",
              "      <td>NaN</td>\n",
              "      <td>NaN</td>\n",
              "      <td>NaN</td>\n",
              "      <td>NaN</td>\n",
              "      <td>2017-01-13</td>\n",
              "      <td>25.06</td>\n",
              "      <td>30.00</td>\n",
              "      <td>20.32</td>\n",
              "      <td>0.60</td>\n",
              "    </tr>\n",
              "  </tbody>\n",
              "</table>\n",
              "</div>"
            ],
            "text/plain": [
              "             id Zones  Crop    Yield  Management  Plnt Date      Lon      Lat  \\\n",
              "111302  10367.0   VII  Soja   5115.0  De primera 2016-11-07 -62.2210 -36.1245   \n",
              "0       10382.0    VI  Maiz  10800.0  De primera 2016-10-06 -62.1793 -32.4368   \n",
              "1       10382.0    VI  Maiz  10800.0  De primera 2016-10-06 -62.1793 -32.4368   \n",
              "2       10382.0    VI  Maiz  10800.0  De primera 2016-10-06 -62.1793 -32.4368   \n",
              "3       10382.0    VI  Maiz  10800.0  De primera 2016-10-06 -62.1793 -32.4368   \n",
              "\n",
              "         Area      mtci       gcvi      ndvi       evi       date    t2m  \\\n",
              "111302  174.0  9.236102  14.021510  0.950764  0.906766 2017-02-06  17.00   \n",
              "0       114.0  8.576897   6.639699  0.847529  0.623057 2017-01-10  22.76   \n",
              "1       114.0       NaN        NaN       NaN       NaN 2017-01-11  23.60   \n",
              "2       114.0       NaN        NaN       NaN       NaN 2017-01-12  26.25   \n",
              "3       114.0       NaN        NaN       NaN       NaN 2017-01-13  25.06   \n",
              "\n",
              "        t2m_max  t2m_min  prectot  \n",
              "111302    23.56    10.00     0.09  \n",
              "0         29.55    16.99     0.14  \n",
              "1         30.00    16.32     0.00  \n",
              "2         30.00    18.14     0.00  \n",
              "3         30.00    20.32     0.60  "
            ]
          },
          "metadata": {
            "tags": []
          },
          "execution_count": 46
        }
      ]
    },
    {
      "cell_type": "code",
      "metadata": {
        "id": "wanb0IhU5t3R"
      },
      "source": [
        "# Reemplazo de nan por el valor anterior no nulo que encuentra\n",
        "df_ffill = df.copy()\n",
        "df_ffill[['mtci','gcvi','ndvi','evi']] = df_ffill[['mtci','gcvi','ndvi','evi']].fillna(method='ffill')"
      ],
      "execution_count": 47,
      "outputs": []
    },
    {
      "cell_type": "code",
      "metadata": {
        "colab": {
          "base_uri": "https://localhost:8080/",
          "height": 342
        },
        "id": "uAcMmkj_9D28",
        "outputId": "65c04a34-c0bb-4f16-b031-9f899e6efa39"
      },
      "source": [
        "sns.heatmap(df.isnull())"
      ],
      "execution_count": 52,
      "outputs": [
        {
          "output_type": "execute_result",
          "data": {
            "text/plain": [
              "<matplotlib.axes._subplots.AxesSubplot at 0x7ff247655c10>"
            ]
          },
          "metadata": {
            "tags": []
          },
          "execution_count": 52
        },
        {
          "output_type": "display_data",
          "data": {
            "image/png": "[encoded data removed]",
            "text/plain": [
              "<Figure size 432x288 with 2 Axes>"
            ]
          },
          "metadata": {
            "tags": [],
            "needs_background": "light"
          }
        }
      ]
    },
    {
      "cell_type": "code",
      "metadata": {
        "colab": {
          "base_uri": "https://localhost:8080/",
          "height": 326
        },
        "id": "QZfMgU3-9skx",
        "outputId": "c40591e7-3382-4116-e89d-3820aed115a4"
      },
      "source": [
        "df_ffill.head()"
      ],
      "execution_count": 49,
      "outputs": [
        {
          "output_type": "execute_result",
          "data": {
            "text/html": [
              "<div>\n",
              "<style scoped>\n",
              "    .dataframe tbody tr th:only-of-type {\n",
              "        vertical-align: middle;\n",
              "    }\n",
              "\n",
              "    .dataframe tbody tr th {\n",
              "        vertical-align: top;\n",
              "    }\n",
              "\n",
              "    .dataframe thead th {\n",
              "        text-align: right;\n",
              "    }\n",
              "</style>\n",
              "<table border=\"1\" class=\"dataframe\">\n",
              "  <thead>\n",
              "    <tr style=\"text-align: right;\">\n",
              "      <th></th>\n",
              "      <th>id</th>\n",
              "      <th>Zones</th>\n",
              "      <th>Crop</th>\n",
              "      <th>Yield</th>\n",
              "      <th>Management</th>\n",
              "      <th>Plnt Date</th>\n",
              "      <th>Lon</th>\n",
              "      <th>Lat</th>\n",
              "      <th>Area</th>\n",
              "      <th>mtci</th>\n",
              "      <th>gcvi</th>\n",
              "      <th>ndvi</th>\n",
              "      <th>evi</th>\n",
              "      <th>date</th>\n",
              "      <th>t2m</th>\n",
              "      <th>t2m_max</th>\n",
              "      <th>t2m_min</th>\n",
              "      <th>prectot</th>\n",
              "    </tr>\n",
              "  </thead>\n",
              "  <tbody>\n",
              "    <tr>\n",
              "      <th>111302</th>\n",
              "      <td>10367.0</td>\n",
              "      <td>VII</td>\n",
              "      <td>Soja</td>\n",
              "      <td>5115.0</td>\n",
              "      <td>De primera</td>\n",
              "      <td>2016-11-07</td>\n",
              "      <td>-62.2210</td>\n",
              "      <td>-36.1245</td>\n",
              "      <td>174.0</td>\n",
              "      <td>9.236102</td>\n",
              "      <td>14.021510</td>\n",
              "      <td>0.950764</td>\n",
              "      <td>0.906766</td>\n",
              "      <td>2017-02-06</td>\n",
              "      <td>17.00</td>\n",
              "      <td>23.56</td>\n",
              "      <td>10.00</td>\n",
              "      <td>0.09</td>\n",
              "    </tr>\n",
              "    <tr>\n",
              "      <th>0</th>\n",
              "      <td>10382.0</td>\n",
              "      <td>VI</td>\n",
              "      <td>Maiz</td>\n",
              "      <td>10800.0</td>\n",
              "      <td>De primera</td>\n",
              "      <td>2016-10-06</td>\n",
              "      <td>-62.1793</td>\n",
              "      <td>-32.4368</td>\n",
              "      <td>114.0</td>\n",
              "      <td>8.576897</td>\n",
              "      <td>6.639699</td>\n",
              "      <td>0.847529</td>\n",
              "      <td>0.623057</td>\n",
              "      <td>2017-01-10</td>\n",
              "      <td>22.76</td>\n",
              "      <td>29.55</td>\n",
              "      <td>16.99</td>\n",
              "      <td>0.14</td>\n",
              "    </tr>\n",
              "    <tr>\n",
              "      <th>1</th>\n",
              "      <td>10382.0</td>\n",
              "      <td>VI</td>\n",
              "      <td>Maiz</td>\n",
              "      <td>10800.0</td>\n",
              "      <td>De primera</td>\n",
              "      <td>2016-10-06</td>\n",
              "      <td>-62.1793</td>\n",
              "      <td>-32.4368</td>\n",
              "      <td>114.0</td>\n",
              "      <td>8.576897</td>\n",
              "      <td>6.639699</td>\n",
              "      <td>0.847529</td>\n",
              "      <td>0.623057</td>\n",
              "      <td>2017-01-11</td>\n",
              "      <td>23.60</td>\n",
              "      <td>30.00</td>\n",
              "      <td>16.32</td>\n",
              "      <td>0.00</td>\n",
              "    </tr>\n",
              "    <tr>\n",
              "      <th>2</th>\n",
              "      <td>10382.0</td>\n",
              "      <td>VI</td>\n",
              "      <td>Maiz</td>\n",
              "      <td>10800.0</td>\n",
              "      <td>De primera</td>\n",
              "      <td>2016-10-06</td>\n",
              "      <td>-62.1793</td>\n",
              "      <td>-32.4368</td>\n",
              "      <td>114.0</td>\n",
              "      <td>8.576897</td>\n",
              "      <td>6.639699</td>\n",
              "      <td>0.847529</td>\n",
              "      <td>0.623057</td>\n",
              "      <td>2017-01-12</td>\n",
              "      <td>26.25</td>\n",
              "      <td>30.00</td>\n",
              "      <td>18.14</td>\n",
              "      <td>0.00</td>\n",
              "    </tr>\n",
              "    <tr>\n",
              "      <th>3</th>\n",
              "      <td>10382.0</td>\n",
              "      <td>VI</td>\n",
              "      <td>Maiz</td>\n",
              "      <td>10800.0</td>\n",
              "      <td>De primera</td>\n",
              "      <td>2016-10-06</td>\n",
              "      <td>-62.1793</td>\n",
              "      <td>-32.4368</td>\n",
              "      <td>114.0</td>\n",
              "      <td>8.576897</td>\n",
              "      <td>6.639699</td>\n",
              "      <td>0.847529</td>\n",
              "      <td>0.623057</td>\n",
              "      <td>2017-01-13</td>\n",
              "      <td>25.06</td>\n",
              "      <td>30.00</td>\n",
              "      <td>20.32</td>\n",
              "      <td>0.60</td>\n",
              "    </tr>\n",
              "  </tbody>\n",
              "</table>\n",
              "</div>"
            ],
            "text/plain": [
              "             id Zones  Crop    Yield  Management  Plnt Date      Lon      Lat  \\\n",
              "111302  10367.0   VII  Soja   5115.0  De primera 2016-11-07 -62.2210 -36.1245   \n",
              "0       10382.0    VI  Maiz  10800.0  De primera 2016-10-06 -62.1793 -32.4368   \n",
              "1       10382.0    VI  Maiz  10800.0  De primera 2016-10-06 -62.1793 -32.4368   \n",
              "2       10382.0    VI  Maiz  10800.0  De primera 2016-10-06 -62.1793 -32.4368   \n",
              "3       10382.0    VI  Maiz  10800.0  De primera 2016-10-06 -62.1793 -32.4368   \n",
              "\n",
              "         Area      mtci       gcvi      ndvi       evi       date    t2m  \\\n",
              "111302  174.0  9.236102  14.021510  0.950764  0.906766 2017-02-06  17.00   \n",
              "0       114.0  8.576897   6.639699  0.847529  0.623057 2017-01-10  22.76   \n",
              "1       114.0  8.576897   6.639699  0.847529  0.623057 2017-01-11  23.60   \n",
              "2       114.0  8.576897   6.639699  0.847529  0.623057 2017-01-12  26.25   \n",
              "3       114.0  8.576897   6.639699  0.847529  0.623057 2017-01-13  25.06   \n",
              "\n",
              "        t2m_max  t2m_min  prectot  \n",
              "111302    23.56    10.00     0.09  \n",
              "0         29.55    16.99     0.14  \n",
              "1         30.00    16.32     0.00  \n",
              "2         30.00    18.14     0.00  \n",
              "3         30.00    20.32     0.60  "
            ]
          },
          "metadata": {
            "tags": []
          },
          "execution_count": 49
        }
      ]
    },
    {
      "cell_type": "code",
      "metadata": {
        "id": "7Cf0G74C5t3S",
        "outputId": "73c5e2f5-b63a-40b5-88b9-414f5d1bf2be"
      },
      "source": [
        "# chequeo de que no hay más nulos\n",
        "df.isnull().sum()"
      ],
      "execution_count": null,
      "outputs": [
        {
          "output_type": "execute_result",
          "data": {
            "text/plain": [
              "id            0\n",
              "Zones         0\n",
              "Crop          0\n",
              "Yield         0\n",
              "Management    0\n",
              "Plnt Date     0\n",
              "Lon           0\n",
              "Lat           0\n",
              "Area          0\n",
              "mtci          0\n",
              "gcvi          0\n",
              "ndvi          0\n",
              "evi           0\n",
              "date          0\n",
              "t2m           0\n",
              "t2m_max       0\n",
              "t2m_min       0\n",
              "prectot       0\n",
              "dtype: int64"
            ]
          },
          "metadata": {
            "tags": []
          },
          "execution_count": 9
        }
      ]
    },
    {
      "cell_type": "code",
      "metadata": {
        "id": "mWzp6zbh5t3S",
        "outputId": "104ded86-0044-4925-d29f-7a6970748807"
      },
      "source": [
        "sns.heatmap(df.isnull())"
      ],
      "execution_count": null,
      "outputs": [
        {
          "output_type": "execute_result",
          "data": {
            "text/plain": [
              "<AxesSubplot:>"
            ]
          },
          "metadata": {
            "tags": []
          },
          "execution_count": 10
        },
        {
          "output_type": "display_data",
          "data": {
            "image/png": "[encoded data removed]",
            "text/plain": [
              "<Figure size 432x288 with 2 Axes>"
            ]
          },
          "metadata": {
            "tags": [],
            "needs_background": "light"
          }
        }
      ]
    },
    {
      "cell_type": "markdown",
      "metadata": {
        "id": "EQ0Z8Df-5t3S"
      },
      "source": [
        "## Preprocesamiento de variables categóricas"
      ]
    },
    {
      "cell_type": "markdown",
      "metadata": {
        "id": "P17H2WfI5t3T"
      },
      "source": [
        "Set de entrenamiento"
      ]
    },
    {
      "cell_type": "code",
      "metadata": {
        "id": "BN2o-CD75t3T"
      },
      "source": [
        "df_ffill.drop(columns=['Plnt Date', 'date'], inplace=True)"
      ],
      "execution_count": 53,
      "outputs": []
    },
    {
      "cell_type": "code",
      "metadata": {
        "id": "5bFxmkJv5t3T",
        "colab": {
          "base_uri": "https://localhost:8080/",
          "height": 224
        },
        "outputId": "aaab85a1-2ecd-459e-bdc9-6522469962fc"
      },
      "source": [
        "df_ffil = pd.get_dummies(df_ffill)\n",
        "df_ffill.head()"
      ],
      "execution_count": 54,
      "outputs": [
        {
          "output_type": "execute_result",
          "data": {
            "text/html": [
              "<div>\n",
              "<style scoped>\n",
              "    .dataframe tbody tr th:only-of-type {\n",
              "        vertical-align: middle;\n",
              "    }\n",
              "\n",
              "    .dataframe tbody tr th {\n",
              "        vertical-align: top;\n",
              "    }\n",
              "\n",
              "    .dataframe thead th {\n",
              "        text-align: right;\n",
              "    }\n",
              "</style>\n",
              "<table border=\"1\" class=\"dataframe\">\n",
              "  <thead>\n",
              "    <tr style=\"text-align: right;\">\n",
              "      <th></th>\n",
              "      <th>id</th>\n",
              "      <th>Zones</th>\n",
              "      <th>Crop</th>\n",
              "      <th>Yield</th>\n",
              "      <th>Management</th>\n",
              "      <th>Lon</th>\n",
              "      <th>Lat</th>\n",
              "      <th>Area</th>\n",
              "      <th>mtci</th>\n",
              "      <th>gcvi</th>\n",
              "      <th>ndvi</th>\n",
              "      <th>evi</th>\n",
              "      <th>t2m</th>\n",
              "      <th>t2m_max</th>\n",
              "      <th>t2m_min</th>\n",
              "      <th>prectot</th>\n",
              "    </tr>\n",
              "  </thead>\n",
              "  <tbody>\n",
              "    <tr>\n",
              "      <th>111302</th>\n",
              "      <td>10367.0</td>\n",
              "      <td>VII</td>\n",
              "      <td>Soja</td>\n",
              "      <td>5115.0</td>\n",
              "      <td>De primera</td>\n",
              "      <td>-62.2210</td>\n",
              "      <td>-36.1245</td>\n",
              "      <td>174.0</td>\n",
              "      <td>9.236102</td>\n",
              "      <td>14.021510</td>\n",
              "      <td>0.950764</td>\n",
              "      <td>0.906766</td>\n",
              "      <td>17.00</td>\n",
              "      <td>23.56</td>\n",
              "      <td>10.00</td>\n",
              "      <td>0.09</td>\n",
              "    </tr>\n",
              "    <tr>\n",
              "      <th>0</th>\n",
              "      <td>10382.0</td>\n",
              "      <td>VI</td>\n",
              "      <td>Maiz</td>\n",
              "      <td>10800.0</td>\n",
              "      <td>De primera</td>\n",
              "      <td>-62.1793</td>\n",
              "      <td>-32.4368</td>\n",
              "      <td>114.0</td>\n",
              "      <td>8.576897</td>\n",
              "      <td>6.639699</td>\n",
              "      <td>0.847529</td>\n",
              "      <td>0.623057</td>\n",
              "      <td>22.76</td>\n",
              "      <td>29.55</td>\n",
              "      <td>16.99</td>\n",
              "      <td>0.14</td>\n",
              "    </tr>\n",
              "    <tr>\n",
              "      <th>1</th>\n",
              "      <td>10382.0</td>\n",
              "      <td>VI</td>\n",
              "      <td>Maiz</td>\n",
              "      <td>10800.0</td>\n",
              "      <td>De primera</td>\n",
              "      <td>-62.1793</td>\n",
              "      <td>-32.4368</td>\n",
              "      <td>114.0</td>\n",
              "      <td>8.576897</td>\n",
              "      <td>6.639699</td>\n",
              "      <td>0.847529</td>\n",
              "      <td>0.623057</td>\n",
              "      <td>23.60</td>\n",
              "      <td>30.00</td>\n",
              "      <td>16.32</td>\n",
              "      <td>0.00</td>\n",
              "    </tr>\n",
              "    <tr>\n",
              "      <th>2</th>\n",
              "      <td>10382.0</td>\n",
              "      <td>VI</td>\n",
              "      <td>Maiz</td>\n",
              "      <td>10800.0</td>\n",
              "      <td>De primera</td>\n",
              "      <td>-62.1793</td>\n",
              "      <td>-32.4368</td>\n",
              "      <td>114.0</td>\n",
              "      <td>8.576897</td>\n",
              "      <td>6.639699</td>\n",
              "      <td>0.847529</td>\n",
              "      <td>0.623057</td>\n",
              "      <td>26.25</td>\n",
              "      <td>30.00</td>\n",
              "      <td>18.14</td>\n",
              "      <td>0.00</td>\n",
              "    </tr>\n",
              "    <tr>\n",
              "      <th>3</th>\n",
              "      <td>10382.0</td>\n",
              "      <td>VI</td>\n",
              "      <td>Maiz</td>\n",
              "      <td>10800.0</td>\n",
              "      <td>De primera</td>\n",
              "      <td>-62.1793</td>\n",
              "      <td>-32.4368</td>\n",
              "      <td>114.0</td>\n",
              "      <td>8.576897</td>\n",
              "      <td>6.639699</td>\n",
              "      <td>0.847529</td>\n",
              "      <td>0.623057</td>\n",
              "      <td>25.06</td>\n",
              "      <td>30.00</td>\n",
              "      <td>20.32</td>\n",
              "      <td>0.60</td>\n",
              "    </tr>\n",
              "  </tbody>\n",
              "</table>\n",
              "</div>"
            ],
            "text/plain": [
              "             id Zones  Crop    Yield  Management      Lon      Lat   Area  \\\n",
              "111302  10367.0   VII  Soja   5115.0  De primera -62.2210 -36.1245  174.0   \n",
              "0       10382.0    VI  Maiz  10800.0  De primera -62.1793 -32.4368  114.0   \n",
              "1       10382.0    VI  Maiz  10800.0  De primera -62.1793 -32.4368  114.0   \n",
              "2       10382.0    VI  Maiz  10800.0  De primera -62.1793 -32.4368  114.0   \n",
              "3       10382.0    VI  Maiz  10800.0  De primera -62.1793 -32.4368  114.0   \n",
              "\n",
              "            mtci       gcvi      ndvi       evi    t2m  t2m_max  t2m_min  \\\n",
              "111302  9.236102  14.021510  0.950764  0.906766  17.00    23.56    10.00   \n",
              "0       8.576897   6.639699  0.847529  0.623057  22.76    29.55    16.99   \n",
              "1       8.576897   6.639699  0.847529  0.623057  23.60    30.00    16.32   \n",
              "2       8.576897   6.639699  0.847529  0.623057  26.25    30.00    18.14   \n",
              "3       8.576897   6.639699  0.847529  0.623057  25.06    30.00    20.32   \n",
              "\n",
              "        prectot  \n",
              "111302     0.09  \n",
              "0          0.14  \n",
              "1          0.00  \n",
              "2          0.00  \n",
              "3          0.60  "
            ]
          },
          "metadata": {
            "tags": []
          },
          "execution_count": 54
        }
      ]
    },
    {
      "cell_type": "markdown",
      "metadata": {
        "id": "-Ws-osSO5t3U"
      },
      "source": [
        "## Modelado con RF"
      ]
    },
    {
      "cell_type": "code",
      "metadata": {
        "id": "s2iLJafC5t3U"
      },
      "source": [
        "# Definición de target y features\n",
        "y = df_ffill['Yield']\n",
        "X = df_ffill.drop(columns=['Yield'])"
      ],
      "execution_count": 56,
      "outputs": []
    },
    {
      "cell_type": "code",
      "metadata": {
        "id": "1hScYECC5t3U"
      },
      "source": [
        "from sklearn.model_selection import train_test_split\n",
        "X_train, X_test, y_train, y_test = train_test_split(X, y, test_size=0.2, random_state=1)"
      ],
      "execution_count": 57,
      "outputs": []
    },
    {
      "cell_type": "code",
      "metadata": {
        "colab": {
          "base_uri": "https://localhost:8080/",
          "height": 439
        },
        "id": "D7blqa7lA-H0",
        "outputId": "898dd4bf-bc03-496b-ca83-9eaff15d4b20"
      },
      "source": [
        ""
      ],
      "execution_count": 63,
      "outputs": [
        {
          "output_type": "execute_result",
          "data": {
            "text/html": [
              "<div>\n",
              "<style scoped>\n",
              "    .dataframe tbody tr th:only-of-type {\n",
              "        vertical-align: middle;\n",
              "    }\n",
              "\n",
              "    .dataframe tbody tr th {\n",
              "        vertical-align: top;\n",
              "    }\n",
              "\n",
              "    .dataframe thead th {\n",
              "        text-align: right;\n",
              "    }\n",
              "</style>\n",
              "<table border=\"1\" class=\"dataframe\">\n",
              "  <thead>\n",
              "    <tr style=\"text-align: right;\">\n",
              "      <th></th>\n",
              "      <th>id</th>\n",
              "      <th>Zones</th>\n",
              "      <th>Crop</th>\n",
              "      <th>Management</th>\n",
              "      <th>Lon</th>\n",
              "      <th>Lat</th>\n",
              "      <th>Area</th>\n",
              "      <th>mtci</th>\n",
              "      <th>gcvi</th>\n",
              "      <th>ndvi</th>\n",
              "      <th>evi</th>\n",
              "      <th>t2m</th>\n",
              "      <th>t2m_max</th>\n",
              "      <th>t2m_min</th>\n",
              "      <th>prectot</th>\n",
              "    </tr>\n",
              "  </thead>\n",
              "  <tbody>\n",
              "    <tr>\n",
              "      <th>111302</th>\n",
              "      <td>10367.0</td>\n",
              "      <td>VII</td>\n",
              "      <td>Soja</td>\n",
              "      <td>De primera</td>\n",
              "      <td>-62.2210</td>\n",
              "      <td>-36.1245</td>\n",
              "      <td>174.0</td>\n",
              "      <td>9.236102</td>\n",
              "      <td>14.021510</td>\n",
              "      <td>0.950764</td>\n",
              "      <td>0.906766</td>\n",
              "      <td>17.00</td>\n",
              "      <td>23.56</td>\n",
              "      <td>10.00</td>\n",
              "      <td>0.09</td>\n",
              "    </tr>\n",
              "    <tr>\n",
              "      <th>0</th>\n",
              "      <td>10382.0</td>\n",
              "      <td>VI</td>\n",
              "      <td>Maiz</td>\n",
              "      <td>De primera</td>\n",
              "      <td>-62.1793</td>\n",
              "      <td>-32.4368</td>\n",
              "      <td>114.0</td>\n",
              "      <td>8.576897</td>\n",
              "      <td>6.639699</td>\n",
              "      <td>0.847529</td>\n",
              "      <td>0.623057</td>\n",
              "      <td>22.76</td>\n",
              "      <td>29.55</td>\n",
              "      <td>16.99</td>\n",
              "      <td>0.14</td>\n",
              "    </tr>\n",
              "    <tr>\n",
              "      <th>1</th>\n",
              "      <td>10382.0</td>\n",
              "      <td>VI</td>\n",
              "      <td>Maiz</td>\n",
              "      <td>De primera</td>\n",
              "      <td>-62.1793</td>\n",
              "      <td>-32.4368</td>\n",
              "      <td>114.0</td>\n",
              "      <td>8.576897</td>\n",
              "      <td>6.639699</td>\n",
              "      <td>0.847529</td>\n",
              "      <td>0.623057</td>\n",
              "      <td>23.60</td>\n",
              "      <td>30.00</td>\n",
              "      <td>16.32</td>\n",
              "      <td>0.00</td>\n",
              "    </tr>\n",
              "    <tr>\n",
              "      <th>2</th>\n",
              "      <td>10382.0</td>\n",
              "      <td>VI</td>\n",
              "      <td>Maiz</td>\n",
              "      <td>De primera</td>\n",
              "      <td>-62.1793</td>\n",
              "      <td>-32.4368</td>\n",
              "      <td>114.0</td>\n",
              "      <td>8.576897</td>\n",
              "      <td>6.639699</td>\n",
              "      <td>0.847529</td>\n",
              "      <td>0.623057</td>\n",
              "      <td>26.25</td>\n",
              "      <td>30.00</td>\n",
              "      <td>18.14</td>\n",
              "      <td>0.00</td>\n",
              "    </tr>\n",
              "    <tr>\n",
              "      <th>3</th>\n",
              "      <td>10382.0</td>\n",
              "      <td>VI</td>\n",
              "      <td>Maiz</td>\n",
              "      <td>De primera</td>\n",
              "      <td>-62.1793</td>\n",
              "      <td>-32.4368</td>\n",
              "      <td>114.0</td>\n",
              "      <td>8.576897</td>\n",
              "      <td>6.639699</td>\n",
              "      <td>0.847529</td>\n",
              "      <td>0.623057</td>\n",
              "      <td>25.06</td>\n",
              "      <td>30.00</td>\n",
              "      <td>20.32</td>\n",
              "      <td>0.60</td>\n",
              "    </tr>\n",
              "    <tr>\n",
              "      <th>...</th>\n",
              "      <td>...</td>\n",
              "      <td>...</td>\n",
              "      <td>...</td>\n",
              "      <td>...</td>\n",
              "      <td>...</td>\n",
              "      <td>...</td>\n",
              "      <td>...</td>\n",
              "      <td>...</td>\n",
              "      <td>...</td>\n",
              "      <td>...</td>\n",
              "      <td>...</td>\n",
              "      <td>...</td>\n",
              "      <td>...</td>\n",
              "      <td>...</td>\n",
              "      <td>...</td>\n",
              "    </tr>\n",
              "    <tr>\n",
              "      <th>111297</th>\n",
              "      <td>90615.0</td>\n",
              "      <td>Iie</td>\n",
              "      <td>Maiz</td>\n",
              "      <td>De segunda</td>\n",
              "      <td>-61.3179</td>\n",
              "      <td>-25.9188</td>\n",
              "      <td>104.0</td>\n",
              "      <td>2.334040</td>\n",
              "      <td>1.628090</td>\n",
              "      <td>0.221603</td>\n",
              "      <td>0.148442</td>\n",
              "      <td>17.79</td>\n",
              "      <td>27.36</td>\n",
              "      <td>10.00</td>\n",
              "      <td>0.18</td>\n",
              "    </tr>\n",
              "    <tr>\n",
              "      <th>111298</th>\n",
              "      <td>90615.0</td>\n",
              "      <td>Iie</td>\n",
              "      <td>Maiz</td>\n",
              "      <td>De segunda</td>\n",
              "      <td>-61.3179</td>\n",
              "      <td>-25.9188</td>\n",
              "      <td>104.0</td>\n",
              "      <td>2.334040</td>\n",
              "      <td>1.628090</td>\n",
              "      <td>0.221603</td>\n",
              "      <td>0.148442</td>\n",
              "      <td>17.04</td>\n",
              "      <td>22.24</td>\n",
              "      <td>10.16</td>\n",
              "      <td>1.14</td>\n",
              "    </tr>\n",
              "    <tr>\n",
              "      <th>111299</th>\n",
              "      <td>90615.0</td>\n",
              "      <td>Iie</td>\n",
              "      <td>Maiz</td>\n",
              "      <td>De segunda</td>\n",
              "      <td>-61.3179</td>\n",
              "      <td>-25.9188</td>\n",
              "      <td>104.0</td>\n",
              "      <td>2.334040</td>\n",
              "      <td>1.628090</td>\n",
              "      <td>0.221603</td>\n",
              "      <td>0.148442</td>\n",
              "      <td>11.96</td>\n",
              "      <td>19.34</td>\n",
              "      <td>10.00</td>\n",
              "      <td>0.00</td>\n",
              "    </tr>\n",
              "    <tr>\n",
              "      <th>111300</th>\n",
              "      <td>90615.0</td>\n",
              "      <td>Iie</td>\n",
              "      <td>Maiz</td>\n",
              "      <td>De segunda</td>\n",
              "      <td>-61.3179</td>\n",
              "      <td>-25.9188</td>\n",
              "      <td>104.0</td>\n",
              "      <td>2.334040</td>\n",
              "      <td>1.628090</td>\n",
              "      <td>0.221603</td>\n",
              "      <td>0.148442</td>\n",
              "      <td>11.32</td>\n",
              "      <td>18.89</td>\n",
              "      <td>10.00</td>\n",
              "      <td>0.00</td>\n",
              "    </tr>\n",
              "    <tr>\n",
              "      <th>111301</th>\n",
              "      <td>90615.0</td>\n",
              "      <td>Iie</td>\n",
              "      <td>Maiz</td>\n",
              "      <td>De segunda</td>\n",
              "      <td>-61.3179</td>\n",
              "      <td>-25.9188</td>\n",
              "      <td>104.0</td>\n",
              "      <td>1.671532</td>\n",
              "      <td>1.253623</td>\n",
              "      <td>0.180464</td>\n",
              "      <td>0.149226</td>\n",
              "      <td>12.82</td>\n",
              "      <td>21.72</td>\n",
              "      <td>10.00</td>\n",
              "      <td>0.00</td>\n",
              "    </tr>\n",
              "  </tbody>\n",
              "</table>\n",
              "<p>595152 rows × 15 columns</p>\n",
              "</div>"
            ],
            "text/plain": [
              "             id Zones  Crop  Management      Lon      Lat   Area      mtci  \\\n",
              "111302  10367.0   VII  Soja  De primera -62.2210 -36.1245  174.0  9.236102   \n",
              "0       10382.0    VI  Maiz  De primera -62.1793 -32.4368  114.0  8.576897   \n",
              "1       10382.0    VI  Maiz  De primera -62.1793 -32.4368  114.0  8.576897   \n",
              "2       10382.0    VI  Maiz  De primera -62.1793 -32.4368  114.0  8.576897   \n",
              "3       10382.0    VI  Maiz  De primera -62.1793 -32.4368  114.0  8.576897   \n",
              "...         ...   ...   ...         ...      ...      ...    ...       ...   \n",
              "111297  90615.0   Iie  Maiz  De segunda -61.3179 -25.9188  104.0  2.334040   \n",
              "111298  90615.0   Iie  Maiz  De segunda -61.3179 -25.9188  104.0  2.334040   \n",
              "111299  90615.0   Iie  Maiz  De segunda -61.3179 -25.9188  104.0  2.334040   \n",
              "111300  90615.0   Iie  Maiz  De segunda -61.3179 -25.9188  104.0  2.334040   \n",
              "111301  90615.0   Iie  Maiz  De segunda -61.3179 -25.9188  104.0  1.671532   \n",
              "\n",
              "             gcvi      ndvi       evi    t2m  t2m_max  t2m_min  prectot  \n",
              "111302  14.021510  0.950764  0.906766  17.00    23.56    10.00     0.09  \n",
              "0        6.639699  0.847529  0.623057  22.76    29.55    16.99     0.14  \n",
              "1        6.639699  0.847529  0.623057  23.60    30.00    16.32     0.00  \n",
              "2        6.639699  0.847529  0.623057  26.25    30.00    18.14     0.00  \n",
              "3        6.639699  0.847529  0.623057  25.06    30.00    20.32     0.60  \n",
              "...           ...       ...       ...    ...      ...      ...      ...  \n",
              "111297   1.628090  0.221603  0.148442  17.79    27.36    10.00     0.18  \n",
              "111298   1.628090  0.221603  0.148442  17.04    22.24    10.16     1.14  \n",
              "111299   1.628090  0.221603  0.148442  11.96    19.34    10.00     0.00  \n",
              "111300   1.628090  0.221603  0.148442  11.32    18.89    10.00     0.00  \n",
              "111301   1.253623  0.180464  0.149226  12.82    21.72    10.00     0.00  \n",
              "\n",
              "[595152 rows x 15 columns]"
            ]
          },
          "metadata": {
            "tags": []
          },
          "execution_count": 63
        }
      ]
    },
    {
      "cell_type": "code",
      "metadata": {
        "id": "EB6FYJNY5t3V",
        "colab": {
          "base_uri": "https://localhost:8080/"
        },
        "outputId": "f8bf6b37-4287-4854-dc24-ff7900fe7d30"
      },
      "source": [
        "# print the shapes of the 4 sets generated\n",
        "print(f'X train: {X_train.shape}')\n",
        "print(f'y train: {y_train.shape}')\n",
        "print(f'X test: {X_test.shape}')\n",
        "print(f'y test: {y_test.shape}')"
      ],
      "execution_count": 58,
      "outputs": [
        {
          "output_type": "stream",
          "text": [
            "X train: (476121, 15)\n",
            "y train: (476121,)\n",
            "X test: (119031, 15)\n",
            "y test: (119031,)\n"
          ],
          "name": "stdout"
        }
      ]
    },
    {
      "cell_type": "code",
      "metadata": {
        "id": "DZQKKJd25t3V",
        "colab": {
          "base_uri": "https://localhost:8080/",
          "height": 340
        },
        "outputId": "0b5e2326-19ce-4306-eeae-0f33337375c9"
      },
      "source": [
        "# Creación de random forest y entrenamiento del modelo con los datos de entrenamiento\n",
        "from sklearn.ensemble import RandomForestRegressor\n",
        "random_forest = RandomForestRegressor(random_state=0)\n",
        "random_forest.fit(X_train, y_train)"
      ],
      "execution_count": 64,
      "outputs": [
        {
          "output_type": "error",
          "ename": "ValueError",
          "evalue": "ignored",
          "traceback": [
            "\u001b[0;31m---------------------------------------------------------------------------\u001b[0m",
            "\u001b[0;31mValueError\u001b[0m                                Traceback (most recent call last)",
            "\u001b[0;32m<ipython-input-64-7b5b275587f0>\u001b[0m in \u001b[0;36m<module>\u001b[0;34m()\u001b[0m\n\u001b[1;32m      2\u001b[0m \u001b[0;32mfrom\u001b[0m \u001b[0msklearn\u001b[0m\u001b[0;34m.\u001b[0m\u001b[0mensemble\u001b[0m \u001b[0;32mimport\u001b[0m \u001b[0mRandomForestRegressor\u001b[0m\u001b[0;34m\u001b[0m\u001b[0;34m\u001b[0m\u001b[0m\n\u001b[1;32m      3\u001b[0m \u001b[0mrandom_forest\u001b[0m \u001b[0;34m=\u001b[0m \u001b[0mRandomForestRegressor\u001b[0m\u001b[0;34m(\u001b[0m\u001b[0mrandom_state\u001b[0m\u001b[0;34m=\u001b[0m\u001b[0;36m0\u001b[0m\u001b[0;34m)\u001b[0m\u001b[0;34m\u001b[0m\u001b[0;34m\u001b[0m\u001b[0m\n\u001b[0;32m----> 4\u001b[0;31m \u001b[0mrandom_forest\u001b[0m\u001b[0;34m.\u001b[0m\u001b[0mfit\u001b[0m\u001b[0;34m(\u001b[0m\u001b[0mX_train\u001b[0m\u001b[0;34m,\u001b[0m \u001b[0my_train\u001b[0m\u001b[0;34m)\u001b[0m\u001b[0;34m\u001b[0m\u001b[0;34m\u001b[0m\u001b[0m\n\u001b[0m",
            "\u001b[0;32m/usr/local/lib/python3.7/dist-packages/sklearn/ensemble/_forest.py\u001b[0m in \u001b[0;36mfit\u001b[0;34m(self, X, y, sample_weight)\u001b[0m\n\u001b[1;32m    293\u001b[0m         \"\"\"\n\u001b[1;32m    294\u001b[0m         \u001b[0;31m# Validate or convert input data\u001b[0m\u001b[0;34m\u001b[0m\u001b[0;34m\u001b[0m\u001b[0;34m\u001b[0m\u001b[0m\n\u001b[0;32m--> 295\u001b[0;31m         \u001b[0mX\u001b[0m \u001b[0;34m=\u001b[0m \u001b[0mcheck_array\u001b[0m\u001b[0;34m(\u001b[0m\u001b[0mX\u001b[0m\u001b[0;34m,\u001b[0m \u001b[0maccept_sparse\u001b[0m\u001b[0;34m=\u001b[0m\u001b[0;34m\"csc\"\u001b[0m\u001b[0;34m,\u001b[0m \u001b[0mdtype\u001b[0m\u001b[0;34m=\u001b[0m\u001b[0mDTYPE\u001b[0m\u001b[0;34m)\u001b[0m\u001b[0;34m\u001b[0m\u001b[0;34m\u001b[0m\u001b[0m\n\u001b[0m\u001b[1;32m    296\u001b[0m         \u001b[0my\u001b[0m \u001b[0;34m=\u001b[0m \u001b[0mcheck_array\u001b[0m\u001b[0;34m(\u001b[0m\u001b[0my\u001b[0m\u001b[0;34m,\u001b[0m \u001b[0maccept_sparse\u001b[0m\u001b[0;34m=\u001b[0m\u001b[0;34m'csc'\u001b[0m\u001b[0;34m,\u001b[0m \u001b[0mensure_2d\u001b[0m\u001b[0;34m=\u001b[0m\u001b[0;32mFalse\u001b[0m\u001b[0;34m,\u001b[0m \u001b[0mdtype\u001b[0m\u001b[0;34m=\u001b[0m\u001b[0;32mNone\u001b[0m\u001b[0;34m)\u001b[0m\u001b[0;34m\u001b[0m\u001b[0;34m\u001b[0m\u001b[0m\n\u001b[1;32m    297\u001b[0m         \u001b[0;32mif\u001b[0m \u001b[0msample_weight\u001b[0m \u001b[0;32mis\u001b[0m \u001b[0;32mnot\u001b[0m \u001b[0;32mNone\u001b[0m\u001b[0;34m:\u001b[0m\u001b[0;34m\u001b[0m\u001b[0;34m\u001b[0m\u001b[0m\n",
            "\u001b[0;32m/usr/local/lib/python3.7/dist-packages/sklearn/utils/validation.py\u001b[0m in \u001b[0;36mcheck_array\u001b[0;34m(array, accept_sparse, accept_large_sparse, dtype, order, copy, force_all_finite, ensure_2d, allow_nd, ensure_min_samples, ensure_min_features, warn_on_dtype, estimator)\u001b[0m\n\u001b[1;32m    529\u001b[0m                     \u001b[0marray\u001b[0m \u001b[0;34m=\u001b[0m \u001b[0marray\u001b[0m\u001b[0;34m.\u001b[0m\u001b[0mastype\u001b[0m\u001b[0;34m(\u001b[0m\u001b[0mdtype\u001b[0m\u001b[0;34m,\u001b[0m \u001b[0mcasting\u001b[0m\u001b[0;34m=\u001b[0m\u001b[0;34m\"unsafe\"\u001b[0m\u001b[0;34m,\u001b[0m \u001b[0mcopy\u001b[0m\u001b[0;34m=\u001b[0m\u001b[0;32mFalse\u001b[0m\u001b[0;34m)\u001b[0m\u001b[0;34m\u001b[0m\u001b[0;34m\u001b[0m\u001b[0m\n\u001b[1;32m    530\u001b[0m                 \u001b[0;32melse\u001b[0m\u001b[0;34m:\u001b[0m\u001b[0;34m\u001b[0m\u001b[0;34m\u001b[0m\u001b[0m\n\u001b[0;32m--> 531\u001b[0;31m                     \u001b[0marray\u001b[0m \u001b[0;34m=\u001b[0m \u001b[0mnp\u001b[0m\u001b[0;34m.\u001b[0m\u001b[0masarray\u001b[0m\u001b[0;34m(\u001b[0m\u001b[0marray\u001b[0m\u001b[0;34m,\u001b[0m \u001b[0morder\u001b[0m\u001b[0;34m=\u001b[0m\u001b[0morder\u001b[0m\u001b[0;34m,\u001b[0m \u001b[0mdtype\u001b[0m\u001b[0;34m=\u001b[0m\u001b[0mdtype\u001b[0m\u001b[0;34m)\u001b[0m\u001b[0;34m\u001b[0m\u001b[0;34m\u001b[0m\u001b[0m\n\u001b[0m\u001b[1;32m    532\u001b[0m             \u001b[0;32mexcept\u001b[0m \u001b[0mComplexWarning\u001b[0m\u001b[0;34m:\u001b[0m\u001b[0;34m\u001b[0m\u001b[0;34m\u001b[0m\u001b[0m\n\u001b[1;32m    533\u001b[0m                 raise ValueError(\"Complex data not supported\\n\"\n",
            "\u001b[0;32m/usr/local/lib/python3.7/dist-packages/numpy/core/_asarray.py\u001b[0m in \u001b[0;36masarray\u001b[0;34m(a, dtype, order)\u001b[0m\n\u001b[1;32m     81\u001b[0m \u001b[0;34m\u001b[0m\u001b[0m\n\u001b[1;32m     82\u001b[0m     \"\"\"\n\u001b[0;32m---> 83\u001b[0;31m     \u001b[0;32mreturn\u001b[0m \u001b[0marray\u001b[0m\u001b[0;34m(\u001b[0m\u001b[0ma\u001b[0m\u001b[0;34m,\u001b[0m \u001b[0mdtype\u001b[0m\u001b[0;34m,\u001b[0m \u001b[0mcopy\u001b[0m\u001b[0;34m=\u001b[0m\u001b[0;32mFalse\u001b[0m\u001b[0;34m,\u001b[0m \u001b[0morder\u001b[0m\u001b[0;34m=\u001b[0m\u001b[0morder\u001b[0m\u001b[0;34m)\u001b[0m\u001b[0;34m\u001b[0m\u001b[0;34m\u001b[0m\u001b[0m\n\u001b[0m\u001b[1;32m     84\u001b[0m \u001b[0;34m\u001b[0m\u001b[0m\n\u001b[1;32m     85\u001b[0m \u001b[0;34m\u001b[0m\u001b[0m\n",
            "\u001b[0;32m/usr/local/lib/python3.7/dist-packages/pandas/core/generic.py\u001b[0m in \u001b[0;36m__array__\u001b[0;34m(self, dtype)\u001b[0m\n\u001b[1;32m   1779\u001b[0m \u001b[0;34m\u001b[0m\u001b[0m\n\u001b[1;32m   1780\u001b[0m     \u001b[0;32mdef\u001b[0m \u001b[0m__array__\u001b[0m\u001b[0;34m(\u001b[0m\u001b[0mself\u001b[0m\u001b[0;34m,\u001b[0m \u001b[0mdtype\u001b[0m\u001b[0;34m=\u001b[0m\u001b[0;32mNone\u001b[0m\u001b[0;34m)\u001b[0m \u001b[0;34m->\u001b[0m \u001b[0mnp\u001b[0m\u001b[0;34m.\u001b[0m\u001b[0mndarray\u001b[0m\u001b[0;34m:\u001b[0m\u001b[0;34m\u001b[0m\u001b[0;34m\u001b[0m\u001b[0m\n\u001b[0;32m-> 1781\u001b[0;31m         \u001b[0;32mreturn\u001b[0m \u001b[0mnp\u001b[0m\u001b[0;34m.\u001b[0m\u001b[0masarray\u001b[0m\u001b[0;34m(\u001b[0m\u001b[0mself\u001b[0m\u001b[0;34m.\u001b[0m\u001b[0m_values\u001b[0m\u001b[0;34m,\u001b[0m \u001b[0mdtype\u001b[0m\u001b[0;34m=\u001b[0m\u001b[0mdtype\u001b[0m\u001b[0;34m)\u001b[0m\u001b[0;34m\u001b[0m\u001b[0;34m\u001b[0m\u001b[0m\n\u001b[0m\u001b[1;32m   1782\u001b[0m \u001b[0;34m\u001b[0m\u001b[0m\n\u001b[1;32m   1783\u001b[0m     \u001b[0;32mdef\u001b[0m \u001b[0m__array_wrap__\u001b[0m\u001b[0;34m(\u001b[0m\u001b[0mself\u001b[0m\u001b[0;34m,\u001b[0m \u001b[0mresult\u001b[0m\u001b[0;34m,\u001b[0m \u001b[0mcontext\u001b[0m\u001b[0;34m=\u001b[0m\u001b[0;32mNone\u001b[0m\u001b[0;34m)\u001b[0m\u001b[0;34m:\u001b[0m\u001b[0;34m\u001b[0m\u001b[0;34m\u001b[0m\u001b[0m\n",
            "\u001b[0;32m/usr/local/lib/python3.7/dist-packages/numpy/core/_asarray.py\u001b[0m in \u001b[0;36masarray\u001b[0;34m(a, dtype, order)\u001b[0m\n\u001b[1;32m     81\u001b[0m \u001b[0;34m\u001b[0m\u001b[0m\n\u001b[1;32m     82\u001b[0m     \"\"\"\n\u001b[0;32m---> 83\u001b[0;31m     \u001b[0;32mreturn\u001b[0m \u001b[0marray\u001b[0m\u001b[0;34m(\u001b[0m\u001b[0ma\u001b[0m\u001b[0;34m,\u001b[0m \u001b[0mdtype\u001b[0m\u001b[0;34m,\u001b[0m \u001b[0mcopy\u001b[0m\u001b[0;34m=\u001b[0m\u001b[0;32mFalse\u001b[0m\u001b[0;34m,\u001b[0m \u001b[0morder\u001b[0m\u001b[0;34m=\u001b[0m\u001b[0morder\u001b[0m\u001b[0;34m)\u001b[0m\u001b[0;34m\u001b[0m\u001b[0;34m\u001b[0m\u001b[0m\n\u001b[0m\u001b[1;32m     84\u001b[0m \u001b[0;34m\u001b[0m\u001b[0m\n\u001b[1;32m     85\u001b[0m \u001b[0;34m\u001b[0m\u001b[0m\n",
            "\u001b[0;31mValueError\u001b[0m: could not convert string to float: 'Vc'"
          ]
        }
      ]
    },
    {
      "cell_type": "markdown",
      "metadata": {
        "id": "qqWJvU6T5t3W"
      },
      "source": [
        "## Predicción de datos "
      ]
    },
    {
      "cell_type": "code",
      "metadata": {
        "id": "gJJXEBjT5t3W"
      },
      "source": [
        "y_pred = random_forest.predict(X_test)"
      ],
      "execution_count": null,
      "outputs": []
    },
    {
      "cell_type": "code",
      "metadata": {
        "id": "JjNQe7UF5t3W"
      },
      "source": [
        "accuracy = np.mean(y_pred == y_test)\n",
        "accuracy"
      ],
      "execution_count": null,
      "outputs": []
    },
    {
      "cell_type": "code",
      "metadata": {
        "id": "cKav5CmK5t3W",
        "colab": {
          "base_uri": "https://localhost:8080/"
        },
        "outputId": "a9ec4d80-a7dd-4152-cda5-0b72bb263c9e"
      },
      "source": [
        "!pip install explainerdashboard"
      ],
      "execution_count": 72,
      "outputs": [
        {
          "output_type": "stream",
          "text": [
            "Collecting explainerdashboard\n",
            "\u001b[?25l  Downloading https://files.pythonhosted.org/packages/c6/03/79092712ab94507ae14085e5127b48e2d335a3f7c876e77d1fd6ef9356b4/explainerdashboard-0.3.5-py3-none-any.whl (287kB)\n",
            "\u001b[K     |████████████████████████████████| 296kB 8.7MB/s \n",
            "\u001b[?25hRequirement already satisfied: pandas>=1.1 in /usr/local/lib/python3.7/dist-packages (from explainerdashboard) (1.1.5)\n",
            "Requirement already satisfied: numpy in /usr/local/lib/python3.7/dist-packages (from explainerdashboard) (1.19.5)\n",
            "Requirement already satisfied: click in /usr/local/lib/python3.7/dist-packages (from explainerdashboard) (7.1.2)\n",
            "Collecting dash-bootstrap-components\n",
            "\u001b[?25l  Downloading https://files.pythonhosted.org/packages/4e/98/f263a206ee087000f9c0f7e9e643e77ed197da24e3ac8f98c474cca6feb5/dash_bootstrap_components-0.12.2-py3-none-any.whl (191kB)\n",
            "\u001b[K     |████████████████████████████████| 194kB 14.5MB/s \n",
            "\u001b[?25hCollecting dtreeviz>=1.3\n",
            "\u001b[?25l  Downloading https://files.pythonhosted.org/packages/35/95/f54aa86548a549da2a6b4159e1d2801b74bf27e01b669e50f3bf26ce30b8/dtreeviz-1.3.tar.gz (60kB)\n",
            "\u001b[K     |████████████████████████████████| 61kB 7.3MB/s \n",
            "\u001b[?25hCollecting jupyter-dash\n",
            "  Downloading https://files.pythonhosted.org/packages/46/21/d3893ad0b7a7061115938d6c38f5862522d45c4199fb7e8fde0765781e13/jupyter_dash-0.4.0-py3-none-any.whl\n",
            "Collecting dash-auth\n",
            "\u001b[?25l  Downloading https://files.pythonhosted.org/packages/79/0f/344b6cd09ae1b3210a534b4fd370d1e513a315d0703c9797f85aba9a4d08/dash_auth-1.4.1.tar.gz (470kB)\n",
            "\u001b[K     |████████████████████████████████| 471kB 16.8MB/s \n",
            "\u001b[?25hRequirement already satisfied: scikit-learn in /usr/local/lib/python3.7/dist-packages (from explainerdashboard) (0.22.2.post1)\n",
            "Collecting shap>=0.37\n",
            "\u001b[?25l  Downloading https://files.pythonhosted.org/packages/b9/f4/c5b95cddae15be80f8e58b25edceca105aa83c0b8c86a1edad24a6af80d3/shap-0.39.0.tar.gz (356kB)\n",
            "\u001b[K     |████████████████████████████████| 358kB 24.0MB/s \n",
            "\u001b[?25hCollecting waitress\n",
            "\u001b[?25l  Downloading https://files.pythonhosted.org/packages/a8/cf/a9e9590023684dbf4e7861e261b0cfd6498a62396c748e661577ca720a29/waitress-2.0.0-py3-none-any.whl (56kB)\n",
            "\u001b[K     |████████████████████████████████| 61kB 7.7MB/s \n",
            "\u001b[?25hCollecting dash>=1.19\n",
            "\u001b[?25l  Downloading https://files.pythonhosted.org/packages/d4/50/e7c2830168db186f84b7de2988543e974433a6cdb0a0b23d51c781e2b2ab/dash-1.20.0.tar.gz (77kB)\n",
            "\u001b[K     |████████████████████████████████| 81kB 8.3MB/s \n",
            "\u001b[?25hCollecting oyaml\n",
            "  Downloading https://files.pythonhosted.org/packages/37/aa/111610d8bf5b1bb7a295a048fc648cec346347a8b0be5881defd2d1b4a52/oyaml-1.0-py2.py3-none-any.whl\n",
            "Requirement already satisfied: joblib in /usr/local/lib/python3.7/dist-packages (from explainerdashboard) (1.0.1)\n",
            "Collecting flask-simplelogin\n",
            "  Downloading https://files.pythonhosted.org/packages/14/f3/5aa36ed74abdd32ca5c6394e71244df962d795cb9f9c850238c889e5e4da/flask_simplelogin-0.0.7-py2.py3-none-any.whl\n",
            "Requirement already satisfied: python-dateutil>=2.7.3 in /usr/local/lib/python3.7/dist-packages (from pandas>=1.1->explainerdashboard) (2.8.1)\n",
            "Requirement already satisfied: pytz>=2017.2 in /usr/local/lib/python3.7/dist-packages (from pandas>=1.1->explainerdashboard) (2018.9)\n",
            "Requirement already satisfied: graphviz>=0.9 in /usr/local/lib/python3.7/dist-packages (from dtreeviz>=1.3->explainerdashboard) (0.10.1)\n",
            "Requirement already satisfied: matplotlib in /usr/local/lib/python3.7/dist-packages (from dtreeviz>=1.3->explainerdashboard) (3.2.2)\n",
            "Collecting colour\n",
            "  Downloading https://files.pythonhosted.org/packages/74/46/e81907704ab203206769dee1385dc77e1407576ff8f50a0681d0a6b541be/colour-0.1.5-py2.py3-none-any.whl\n",
            "Requirement already satisfied: pytest in /usr/local/lib/python3.7/dist-packages (from dtreeviz>=1.3->explainerdashboard) (3.6.4)\n",
            "Requirement already satisfied: ipython in /usr/local/lib/python3.7/dist-packages (from jupyter-dash->explainerdashboard) (5.5.0)\n",
            "Collecting ansi2html\n",
            "  Downloading https://files.pythonhosted.org/packages/c6/85/3a46be84afbb16b392a138cd396117f438c7b2e91d8dc327621d1ae1b5dc/ansi2html-1.6.0-py3-none-any.whl\n",
            "Requirement already satisfied: retrying in /usr/local/lib/python3.7/dist-packages (from jupyter-dash->explainerdashboard) (1.3.3)\n",
            "Requirement already satisfied: ipykernel in /usr/local/lib/python3.7/dist-packages (from jupyter-dash->explainerdashboard) (4.10.1)\n",
            "Requirement already satisfied: flask in /usr/local/lib/python3.7/dist-packages (from jupyter-dash->explainerdashboard) (1.1.2)\n",
            "Requirement already satisfied: requests in /usr/local/lib/python3.7/dist-packages (from jupyter-dash->explainerdashboard) (2.23.0)\n",
            "Collecting chart_studio>=1.0.0\n",
            "\u001b[?25l  Downloading https://files.pythonhosted.org/packages/ca/ce/330794a6b6ca4b9182c38fc69dd2a9cbff60fd49421cb8648ee5fee352dc/chart_studio-1.1.0-py3-none-any.whl (64kB)\n",
            "\u001b[K     |████████████████████████████████| 71kB 9.7MB/s \n",
            "\u001b[?25hCollecting flask-compress\n",
            "  Downloading https://files.pythonhosted.org/packages/c6/d5/69b13600230d24310b98a52da561113fc01a5c17acf77152761eef3e50f1/Flask_Compress-1.9.0-py3-none-any.whl\n",
            "Collecting flask-seasurf\n",
            "  Downloading https://files.pythonhosted.org/packages/0a/4d/8fa013cf2788cc6d1a8a0ed0f820210c6bcdeab1ddbbc2249ac651c73f61/Flask_SeaSurf-0.3.0-py3-none-any.whl\n",
            "Requirement already satisfied: itsdangerous>=1.1.0 in /usr/local/lib/python3.7/dist-packages (from dash-auth->explainerdashboard) (1.1.0)\n",
            "Collecting ua_parser\n",
            "  Downloading https://files.pythonhosted.org/packages/9d/22/4d16b08db329fd440eed366d35e4dd7195c9babb4ecac5218f28081522a2/ua_parser-0.10.0-py2.py3-none-any.whl\n",
            "Requirement already satisfied: scipy>=0.17.0 in /usr/local/lib/python3.7/dist-packages (from scikit-learn->explainerdashboard) (1.4.1)\n",
            "Requirement already satisfied: tqdm>4.25.0 in /usr/local/lib/python3.7/dist-packages (from shap>=0.37->explainerdashboard) (4.41.1)\n",
            "Collecting slicer==0.0.7\n",
            "  Downloading https://files.pythonhosted.org/packages/78/c2/b3f55dfdb8af9812fdb9baf70cacf3b9e82e505b2bd4324d588888b81202/slicer-0.0.7-py3-none-any.whl\n",
            "Requirement already satisfied: numba in /usr/local/lib/python3.7/dist-packages (from shap>=0.37->explainerdashboard) (0.51.2)\n",
            "Requirement already satisfied: cloudpickle in /usr/local/lib/python3.7/dist-packages (from shap>=0.37->explainerdashboard) (1.3.0)\n",
            "Requirement already satisfied: plotly in /usr/local/lib/python3.7/dist-packages (from dash>=1.19->explainerdashboard) (4.4.1)\n",
            "Collecting dash_renderer==1.9.1\n",
            "\u001b[?25l  Downloading https://files.pythonhosted.org/packages/5f/d3/d661a68b4ce71498d5c0c79617bce3d5fc884d4448c698f77c2247cd1b46/dash_renderer-1.9.1.tar.gz (1.0MB)\n",
            "\u001b[K     |████████████████████████████████| 1.0MB 31.7MB/s \n",
            "\u001b[?25hCollecting dash-core-components==1.16.0\n",
            "\u001b[?25l  Downloading https://files.pythonhosted.org/packages/f4/79/434e14d77dbf82b27f98df077936a424de254059d47152b0445b7116e97e/dash_core_components-1.16.0.tar.gz (3.5MB)\n",
            "\u001b[K     |████████████████████████████████| 3.5MB 41.3MB/s \n",
            "\u001b[?25hCollecting dash-html-components==1.1.3\n",
            "\u001b[?25l  Downloading https://files.pythonhosted.org/packages/8f/ca/7eeca4cae4e15cc6f7d0bc41a46368dd3fcdddc72aaa5bac61a8b92d541c/dash_html_components-1.1.3.tar.gz (82kB)\n",
            "\u001b[K     |████████████████████████████████| 92kB 10.8MB/s \n",
            "\u001b[?25hCollecting dash-table==4.11.3\n",
            "\u001b[?25l  Downloading https://files.pythonhosted.org/packages/97/f7/f4969a926f20a55d3e5970d01b85ff9ad510dba32de189e72dd8f4992740/dash_table-4.11.3.tar.gz (1.8MB)\n",
            "\u001b[K     |████████████████████████████████| 1.8MB 22.8MB/s \n",
            "\u001b[?25hRequirement already satisfied: future in /usr/local/lib/python3.7/dist-packages (from dash>=1.19->explainerdashboard) (0.16.0)\n",
            "Requirement already satisfied: pyyaml in /usr/local/lib/python3.7/dist-packages (from oyaml->explainerdashboard) (3.13)\n",
            "Collecting flask_wtf\n",
            "  Downloading https://files.pythonhosted.org/packages/36/a9/8c01171066bd7a524ee005d81bb4a8aa446ab178043a1ad6cb5dc8f0bd83/Flask_WTF-0.14.3-py2.py3-none-any.whl\n",
            "Requirement already satisfied: six>=1.5 in /usr/local/lib/python3.7/dist-packages (from python-dateutil>=2.7.3->pandas>=1.1->explainerdashboard) (1.15.0)\n",
            "Requirement already satisfied: cycler>=0.10 in /usr/local/lib/python3.7/dist-packages (from matplotlib->dtreeviz>=1.3->explainerdashboard) (0.10.0)\n",
            "Requirement already satisfied: kiwisolver>=1.0.1 in /usr/local/lib/python3.7/dist-packages (from matplotlib->dtreeviz>=1.3->explainerdashboard) (1.3.1)\n",
            "Requirement already satisfied: pyparsing!=2.0.4,!=2.1.2,!=2.1.6,>=2.0.1 in /usr/local/lib/python3.7/dist-packages (from matplotlib->dtreeviz>=1.3->explainerdashboard) (2.4.7)\n",
            "Requirement already satisfied: py>=1.5.0 in /usr/local/lib/python3.7/dist-packages (from pytest->dtreeviz>=1.3->explainerdashboard) (1.10.0)\n",
            "Requirement already satisfied: setuptools in /usr/local/lib/python3.7/dist-packages (from pytest->dtreeviz>=1.3->explainerdashboard) (56.1.0)\n",
            "Requirement already satisfied: attrs>=17.4.0 in /usr/local/lib/python3.7/dist-packages (from pytest->dtreeviz>=1.3->explainerdashboard) (20.3.0)\n",
            "Requirement already satisfied: atomicwrites>=1.0 in /usr/local/lib/python3.7/dist-packages (from pytest->dtreeviz>=1.3->explainerdashboard) (1.4.0)\n",
            "Requirement already satisfied: pluggy<0.8,>=0.5 in /usr/local/lib/python3.7/dist-packages (from pytest->dtreeviz>=1.3->explainerdashboard) (0.7.1)\n",
            "Requirement already satisfied: more-itertools>=4.0.0 in /usr/local/lib/python3.7/dist-packages (from pytest->dtreeviz>=1.3->explainerdashboard) (8.7.0)\n",
            "Requirement already satisfied: pickleshare in /usr/local/lib/python3.7/dist-packages (from ipython->jupyter-dash->explainerdashboard) (0.7.5)\n",
            "Requirement already satisfied: traitlets>=4.2 in /usr/local/lib/python3.7/dist-packages (from ipython->jupyter-dash->explainerdashboard) (5.0.5)\n",
            "Requirement already satisfied: simplegeneric>0.8 in /usr/local/lib/python3.7/dist-packages (from ipython->jupyter-dash->explainerdashboard) (0.8.1)\n",
            "Requirement already satisfied: pexpect; sys_platform != \"win32\" in /usr/local/lib/python3.7/dist-packages (from ipython->jupyter-dash->explainerdashboard) (4.8.0)\n",
            "Requirement already satisfied: pygments in /usr/local/lib/python3.7/dist-packages (from ipython->jupyter-dash->explainerdashboard) (2.6.1)\n",
            "Requirement already satisfied: decorator in /usr/local/lib/python3.7/dist-packages (from ipython->jupyter-dash->explainerdashboard) (4.4.2)\n",
            "Requirement already satisfied: prompt-toolkit<2.0.0,>=1.0.4 in /usr/local/lib/python3.7/dist-packages (from ipython->jupyter-dash->explainerdashboard) (1.0.18)\n",
            "Requirement already satisfied: jupyter-client in /usr/local/lib/python3.7/dist-packages (from ipykernel->jupyter-dash->explainerdashboard) (5.3.5)\n",
            "Requirement already satisfied: tornado>=4.0 in /usr/local/lib/python3.7/dist-packages (from ipykernel->jupyter-dash->explainerdashboard) (5.1.1)\n",
            "Requirement already satisfied: Werkzeug>=0.15 in /usr/local/lib/python3.7/dist-packages (from flask->jupyter-dash->explainerdashboard) (1.0.1)\n",
            "Requirement already satisfied: Jinja2>=2.10.1 in /usr/local/lib/python3.7/dist-packages (from flask->jupyter-dash->explainerdashboard) (2.11.3)\n",
            "Requirement already satisfied: chardet<4,>=3.0.2 in /usr/local/lib/python3.7/dist-packages (from requests->jupyter-dash->explainerdashboard) (3.0.4)\n",
            "Requirement already satisfied: urllib3!=1.25.0,!=1.25.1,<1.26,>=1.21.1 in /usr/local/lib/python3.7/dist-packages (from requests->jupyter-dash->explainerdashboard) (1.24.3)\n",
            "Requirement already satisfied: certifi>=2017.4.17 in /usr/local/lib/python3.7/dist-packages (from requests->jupyter-dash->explainerdashboard) (2020.12.5)\n",
            "Requirement already satisfied: idna<3,>=2.5 in /usr/local/lib/python3.7/dist-packages (from requests->jupyter-dash->explainerdashboard) (2.10)\n",
            "Collecting brotli\n",
            "\u001b[?25l  Downloading https://files.pythonhosted.org/packages/15/ea/5bd575511b37bbd1c794606a0a621e6feff8e96b7dd007a86a5d218b2d94/Brotli-1.0.9-cp37-cp37m-manylinux1_x86_64.whl (357kB)\n",
            "\u001b[K     |████████████████████████████████| 358kB 43.1MB/s \n",
            "\u001b[?25hRequirement already satisfied: llvmlite<0.35,>=0.34.0.dev0 in /usr/local/lib/python3.7/dist-packages (from numba->shap>=0.37->explainerdashboard) (0.34.0)\n",
            "Collecting WTForms\n",
            "\u001b[?25l  Downloading https://files.pythonhosted.org/packages/e0/31/614fc7dc7d76005b0acb8c0c8920d962b83d7422b4ba912886dfb63f86ff/WTForms-2.3.3-py2.py3-none-any.whl (169kB)\n",
            "\u001b[K     |████████████████████████████████| 174kB 49.1MB/s \n",
            "\u001b[?25hRequirement already satisfied: ipython-genutils in /usr/local/lib/python3.7/dist-packages (from traitlets>=4.2->ipython->jupyter-dash->explainerdashboard) (0.2.0)\n",
            "Requirement already satisfied: ptyprocess>=0.5 in /usr/local/lib/python3.7/dist-packages (from pexpect; sys_platform != \"win32\"->ipython->jupyter-dash->explainerdashboard) (0.7.0)\n",
            "Requirement already satisfied: wcwidth in /usr/local/lib/python3.7/dist-packages (from prompt-toolkit<2.0.0,>=1.0.4->ipython->jupyter-dash->explainerdashboard) (0.2.5)\n",
            "Requirement already satisfied: pyzmq>=13 in /usr/local/lib/python3.7/dist-packages (from jupyter-client->ipykernel->jupyter-dash->explainerdashboard) (22.0.3)\n",
            "Requirement already satisfied: jupyter-core>=4.6.0 in /usr/local/lib/python3.7/dist-packages (from jupyter-client->ipykernel->jupyter-dash->explainerdashboard) (4.7.1)\n",
            "Requirement already satisfied: MarkupSafe>=0.23 in /usr/local/lib/python3.7/dist-packages (from Jinja2>=2.10.1->flask->jupyter-dash->explainerdashboard) (1.1.1)\n",
            "Building wheels for collected packages: dtreeviz, dash-auth, shap, dash, dash-renderer, dash-core-components, dash-html-components, dash-table\n",
            "  Building wheel for dtreeviz (setup.py) ... \u001b[?25l\u001b[?25hdone\n",
            "  Created wheel for dtreeviz: filename=dtreeviz-1.3-cp37-none-any.whl size=66642 sha256=9680fdb62f49bb37121327d36be8ef2e21268a0c3e87c8eeb1cc84d6ff161a5f\n",
            "  Stored in directory: /root/.cache/pip/wheels/60/36/b1/188ee35c677e48463f6482d580f81c19f5f82ae5adbe293fd8\n",
            "  Building wheel for dash-auth (setup.py) ... \u001b[?25l\u001b[?25hdone\n",
            "  Created wheel for dash-auth: filename=dash_auth-1.4.1-cp37-none-any.whl size=476153 sha256=236fbab0ab5ce70e3bbce2fe325799af563d889b951d775debb1c5d19e8e24d1\n",
            "  Stored in directory: /root/.cache/pip/wheels/9b/6d/64/a95a7e2050ba581161fcf27f862806368bbc34b998e6bc2d37\n",
            "  Building wheel for shap (setup.py) ... \u001b[?25l\u001b[?25hdone\n",
            "  Created wheel for shap: filename=shap-0.39.0-cp37-cp37m-linux_x86_64.whl size=491622 sha256=c791a2dbd0b72cb7bf30890ccb7d7fce4d54b5959438c4837279d8f61b9df72b\n",
            "  Stored in directory: /root/.cache/pip/wheels/15/27/f5/a8ab9da52fd159aae6477b5ede6eaaec69fd130fa0fa59f283\n",
            "  Building wheel for dash (setup.py) ... \u001b[?25l\u001b[?25hdone\n",
            "  Created wheel for dash: filename=dash-1.20.0-cp37-none-any.whl size=85834 sha256=c1eeecf4ab9af6c905db11a7047d88e76ca61ec89b132e4cccf0c9b1cc531a43\n",
            "  Stored in directory: /root/.cache/pip/wheels/e6/33/41/ce361d0d1da277d2350f815b10f2ab1e331592d93ef2b07e29\n",
            "  Building wheel for dash-renderer (setup.py) ... \u001b[?25l\u001b[?25hdone\n",
            "  Created wheel for dash-renderer: filename=dash_renderer-1.9.1-cp37-none-any.whl size=1014875 sha256=022e972753d153a51f424e0206b4a90a844dfb0286a25c44414fa25d5dc7e16f\n",
            "  Stored in directory: /root/.cache/pip/wheels/03/a9/c5/dd5815c601b0ede164c223ffd7bafebde716ca57de06ef8aec\n",
            "  Building wheel for dash-core-components (setup.py) ... \u001b[?25l\u001b[?25hdone\n",
            "  Created wheel for dash-core-components: filename=dash_core_components-1.16.0-cp37-none-any.whl size=3540993 sha256=95c07d1353f42443aa012c5e459344584c577fd6ebff6558e6562e8e95a07ce9\n",
            "  Stored in directory: /root/.cache/pip/wheels/86/1e/8c/e87ebba30b73c20dcd641224274febc983af88ed0fd7712a07\n",
            "  Building wheel for dash-html-components (setup.py) ... \u001b[?25l\u001b[?25hdone\n",
            "  Created wheel for dash-html-components: filename=dash_html_components-1.1.3-cp37-none-any.whl size=319471 sha256=788d4433c48165caa19179944b216bae50653afd7e11570359e382709d8860e8\n",
            "  Stored in directory: /root/.cache/pip/wheels/07/f9/6c/f9b73a6ae1b7f347a92dc240293cebc267b370ba2a80added2\n",
            "  Building wheel for dash-table (setup.py) ... \u001b[?25l\u001b[?25hdone\n",
            "  Created wheel for dash-table: filename=dash_table-4.11.3-cp37-none-any.whl size=1827619 sha256=d483fff0404f0857897ed09d1cf8132f981e00c6a9c3f1550e5f98202beea5fb\n",
            "  Stored in directory: /root/.cache/pip/wheels/51/9b/89/374be1bc250e28a15edbd657cf364f163e392ba5257bfd0e87\n",
            "Successfully built dtreeviz dash-auth shap dash dash-renderer dash-core-components dash-html-components dash-table\n",
            "Installing collected packages: brotli, flask-compress, dash-renderer, dash-core-components, dash-html-components, dash-table, dash, dash-bootstrap-components, colour, dtreeviz, ansi2html, jupyter-dash, chart-studio, flask-seasurf, ua-parser, dash-auth, slicer, shap, waitress, oyaml, WTForms, flask-wtf, flask-simplelogin, explainerdashboard\n",
            "Successfully installed WTForms-2.3.3 ansi2html-1.6.0 brotli-1.0.9 chart-studio-1.1.0 colour-0.1.5 dash-1.20.0 dash-auth-1.4.1 dash-bootstrap-components-0.12.2 dash-core-components-1.16.0 dash-html-components-1.1.3 dash-renderer-1.9.1 dash-table-4.11.3 dtreeviz-1.3 explainerdashboard-0.3.5 flask-compress-1.9.0 flask-seasurf-0.3.0 flask-simplelogin-0.0.7 flask-wtf-0.14.3 jupyter-dash-0.4.0 oyaml-1.0 shap-0.39.0 slicer-0.0.7 ua-parser-0.10.0 waitress-2.0.0\n"
          ],
          "name": "stdout"
        }
      ]
    },
    {
      "cell_type": "code",
      "metadata": {
        "id": "HOQvjB8u5t3X",
        "colab": {
          "base_uri": "https://localhost:8080/",
          "height": 357
        },
        "outputId": "8dc8e685-b538-4fdd-b035-e26080b99ca0"
      },
      "source": [
        "from explainerdashboard import RegressionExplainer, ExplainerDashboard\n",
        "explainer = RegressionExplainer(random_forest, X_test, y_test,\n",
        "                               cats=['Zones','Crop','Management'],\n",
        "                                target='Yield')"
      ],
      "execution_count": 73,
      "outputs": [
        {
          "output_type": "error",
          "ename": "AssertionError",
          "evalue": "ignored",
          "traceback": [
            "\u001b[0;31m---------------------------------------------------------------------------\u001b[0m",
            "\u001b[0;31mAssertionError\u001b[0m                            Traceback (most recent call last)",
            "\u001b[0;32m<ipython-input-73-568068358290>\u001b[0m in \u001b[0;36m<module>\u001b[0;34m()\u001b[0m\n\u001b[1;32m      2\u001b[0m explainer = RegressionExplainer(random_forest, X_test, y_test,\n\u001b[1;32m      3\u001b[0m                                \u001b[0mcats\u001b[0m\u001b[0;34m=\u001b[0m\u001b[0;34m[\u001b[0m\u001b[0;34m'Zones'\u001b[0m\u001b[0;34m,\u001b[0m\u001b[0;34m'Crop'\u001b[0m\u001b[0;34m,\u001b[0m\u001b[0;34m'Management'\u001b[0m\u001b[0;34m]\u001b[0m\u001b[0;34m,\u001b[0m\u001b[0;34m\u001b[0m\u001b[0;34m\u001b[0m\u001b[0m\n\u001b[0;32m----> 4\u001b[0;31m                                 target='Yield')\n\u001b[0m",
            "\u001b[0;32m/usr/local/lib/python3.7/dist-packages/explainerdashboard/explainers.py\u001b[0m in \u001b[0;36m__init__\u001b[0;34m(self, model, X, y, permutation_metric, shap, X_background, model_output, cats, cats_notencoded, idxs, index_name, target, descriptions, n_jobs, permutation_cv, cv, na_fill, precision, units)\u001b[0m\n\u001b[1;32m   3115\u001b[0m                             \u001b[0mcats\u001b[0m\u001b[0;34m,\u001b[0m \u001b[0mcats_notencoded\u001b[0m\u001b[0;34m,\u001b[0m \u001b[0midxs\u001b[0m\u001b[0;34m,\u001b[0m \u001b[0mindex_name\u001b[0m\u001b[0;34m,\u001b[0m \u001b[0mtarget\u001b[0m\u001b[0;34m,\u001b[0m\u001b[0;34m\u001b[0m\u001b[0;34m\u001b[0m\u001b[0m\n\u001b[1;32m   3116\u001b[0m                             \u001b[0mdescriptions\u001b[0m\u001b[0;34m,\u001b[0m \u001b[0mn_jobs\u001b[0m\u001b[0;34m,\u001b[0m \u001b[0mpermutation_cv\u001b[0m\u001b[0;34m,\u001b[0m \u001b[0mcv\u001b[0m\u001b[0;34m,\u001b[0m \u001b[0mna_fill\u001b[0m\u001b[0;34m,\u001b[0m\u001b[0;34m\u001b[0m\u001b[0;34m\u001b[0m\u001b[0m\n\u001b[0;32m-> 3117\u001b[0;31m                             precision)\n\u001b[0m\u001b[1;32m   3118\u001b[0m \u001b[0;34m\u001b[0m\u001b[0m\n\u001b[1;32m   3119\u001b[0m         \u001b[0mself\u001b[0m\u001b[0;34m.\u001b[0m\u001b[0m_params_dict\u001b[0m \u001b[0;34m=\u001b[0m \u001b[0;34m{\u001b[0m\u001b[0;34m**\u001b[0m\u001b[0mself\u001b[0m\u001b[0;34m.\u001b[0m\u001b[0m_params_dict\u001b[0m\u001b[0;34m,\u001b[0m \u001b[0;34m**\u001b[0m\u001b[0mdict\u001b[0m\u001b[0;34m(\u001b[0m\u001b[0munits\u001b[0m\u001b[0;34m=\u001b[0m\u001b[0munits\u001b[0m\u001b[0;34m)\u001b[0m\u001b[0;34m}\u001b[0m\u001b[0;34m\u001b[0m\u001b[0;34m\u001b[0m\u001b[0m\n",
            "\u001b[0;32m/usr/local/lib/python3.7/dist-packages/explainerdashboard/explainers.py\u001b[0m in \u001b[0;36m__init__\u001b[0;34m(self, model, X, y, permutation_metric, shap, X_background, model_output, cats, cats_notencoded, idxs, index_name, target, descriptions, n_jobs, permutation_cv, cv, na_fill, precision)\u001b[0m\n\u001b[1;32m    191\u001b[0m                 \"are supported, so please use those instead of lightgbm.Booster!\")\n\u001b[1;32m    192\u001b[0m \u001b[0;34m\u001b[0m\u001b[0m\n\u001b[0;32m--> 193\u001b[0;31m         \u001b[0mself\u001b[0m\u001b[0;34m.\u001b[0m\u001b[0monehot_cols\u001b[0m\u001b[0;34m,\u001b[0m \u001b[0mself\u001b[0m\u001b[0;34m.\u001b[0m\u001b[0monehot_dict\u001b[0m \u001b[0;34m=\u001b[0m \u001b[0mparse_cats\u001b[0m\u001b[0;34m(\u001b[0m\u001b[0mself\u001b[0m\u001b[0;34m.\u001b[0m\u001b[0mX\u001b[0m\u001b[0;34m,\u001b[0m \u001b[0mcats\u001b[0m\u001b[0;34m)\u001b[0m\u001b[0;34m\u001b[0m\u001b[0;34m\u001b[0m\u001b[0m\n\u001b[0m\u001b[1;32m    194\u001b[0m         \u001b[0mself\u001b[0m\u001b[0;34m.\u001b[0m\u001b[0mencoded_cols\u001b[0m\u001b[0;34m,\u001b[0m \u001b[0mself\u001b[0m\u001b[0;34m.\u001b[0m\u001b[0mregular_cols\u001b[0m \u001b[0;34m=\u001b[0m \u001b[0mget_encoded_and_regular_cols\u001b[0m\u001b[0;34m(\u001b[0m\u001b[0mself\u001b[0m\u001b[0;34m.\u001b[0m\u001b[0mX\u001b[0m\u001b[0;34m.\u001b[0m\u001b[0mcolumns\u001b[0m\u001b[0;34m,\u001b[0m \u001b[0mself\u001b[0m\u001b[0;34m.\u001b[0m\u001b[0monehot_dict\u001b[0m\u001b[0;34m)\u001b[0m\u001b[0;34m\u001b[0m\u001b[0;34m\u001b[0m\u001b[0m\n\u001b[1;32m    195\u001b[0m         \u001b[0mself\u001b[0m\u001b[0;34m.\u001b[0m\u001b[0mcategorical_cols\u001b[0m \u001b[0;34m=\u001b[0m \u001b[0;34m[\u001b[0m\u001b[0mcol\u001b[0m \u001b[0;32mfor\u001b[0m \u001b[0mcol\u001b[0m \u001b[0;32min\u001b[0m \u001b[0mself\u001b[0m\u001b[0;34m.\u001b[0m\u001b[0mregular_cols\u001b[0m \u001b[0;32mif\u001b[0m \u001b[0;32mnot\u001b[0m \u001b[0mis_numeric_dtype\u001b[0m\u001b[0;34m(\u001b[0m\u001b[0mself\u001b[0m\u001b[0;34m.\u001b[0m\u001b[0mX\u001b[0m\u001b[0;34m[\u001b[0m\u001b[0mcol\u001b[0m\u001b[0;34m]\u001b[0m\u001b[0;34m)\u001b[0m\u001b[0;34m]\u001b[0m\u001b[0;34m\u001b[0m\u001b[0;34m\u001b[0m\u001b[0m\n",
            "\u001b[0;32m/usr/local/lib/python3.7/dist-packages/explainerdashboard/explainer_methods.py\u001b[0m in \u001b[0;36mparse_cats\u001b[0;34m(X, cats, sep)\u001b[0m\n\u001b[1;32m    169\u001b[0m          \"Please make sure that each onehot encoded column is only assigned to one cat column!\")\n\u001b[1;32m    170\u001b[0m     \u001b[0;32massert\u001b[0m \u001b[0;32mnot\u001b[0m \u001b[0mset\u001b[0m\u001b[0;34m(\u001b[0m\u001b[0monehot_dict\u001b[0m\u001b[0;34m.\u001b[0m\u001b[0mkeys\u001b[0m\u001b[0;34m(\u001b[0m\u001b[0;34m)\u001b[0m\u001b[0;34m)\u001b[0m \u001b[0;34m&\u001b[0m \u001b[0mset\u001b[0m\u001b[0;34m(\u001b[0m\u001b[0mall_cols\u001b[0m\u001b[0;34m)\u001b[0m\u001b[0;34m,\u001b[0m\u001b[0;31m \u001b[0m\u001b[0;31m\\\u001b[0m\u001b[0;34m\u001b[0m\u001b[0;34m\u001b[0m\u001b[0m\n\u001b[0;32m--> 171\u001b[0;31m          (f\"These new cats columns are already in X.columns: {list(set(onehot_dict.keys()) & set(all_cols))}! \"\n\u001b[0m\u001b[1;32m    172\u001b[0m             \"Please select a different name for your new cats columns!\")\n\u001b[1;32m    173\u001b[0m     \u001b[0;32mfor\u001b[0m \u001b[0mcol\u001b[0m\u001b[0;34m,\u001b[0m \u001b[0mcount\u001b[0m \u001b[0;32min\u001b[0m \u001b[0mcol_counter\u001b[0m\u001b[0;34m.\u001b[0m\u001b[0mmost_common\u001b[0m\u001b[0;34m(\u001b[0m\u001b[0;34m)\u001b[0m\u001b[0;34m:\u001b[0m\u001b[0;34m\u001b[0m\u001b[0;34m\u001b[0m\u001b[0m\n",
            "\u001b[0;31mAssertionError\u001b[0m: These new cats columns are already in X.columns: ['Crop', 'Zones', 'Management']! Please select a different name for your new cats columns!"
          ]
        }
      ]
    },
    {
      "cell_type": "code",
      "metadata": {
        "id": "tssWfTNY5t3X"
      },
      "source": [
        "ExplainerDashboard(explainer).run()"
      ],
      "execution_count": null,
      "outputs": []
    },
    {
      "cell_type": "code",
      "metadata": {
        "id": "E7ScopL_5t3X"
      },
      "source": [
        ""
      ],
      "execution_count": null,
      "outputs": []
    }
  ]
}