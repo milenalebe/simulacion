{
  "nbformat": 4,
  "nbformat_minor": 0,
  "metadata": {
    "colab": {
      "name": "TP 2.1.ipynb",
      "provenance": [],
      "authorship_tag": "ABX9TyPa6Mv+q/49xvH84x9MdqHL",
      "include_colab_link": true
    },
    "kernelspec": {
      "name": "python3",
      "display_name": "Python 3"
    },
    "language_info": {
      "name": "python"
    }
  },
  "cells": [
    {
      "cell_type": "markdown",
      "metadata": {
        "id": "view-in-github",
        "colab_type": "text"
      },
      "source": [
        "<a href=\"https://colab.research.google.com/github/milenalebe/simulacion/blob/master/RNG%20TP_2_1.ipynb\" target=\"_parent\"><img src=\"https://colab.research.google.com/assets/colab-badge.svg\" alt=\"Open In Colab\"/></a>"
      ]
    },
    {
      "cell_type": "code",
      "metadata": {
        "id": "I6RyMG1fPxSZ"
      },
      "source": [
        "import numpy as np"
      ],
      "execution_count": 1,
      "outputs": []
    },
    {
      "cell_type": "code",
      "metadata": {
        "id": "VUJpqZFVPvbz"
      },
      "source": [
        "\n",
        "\"\"\" impementacion del medio del cuadrado recursiva\"\"\"\n",
        "\n",
        "numbers = []\n",
        "\n",
        "def randNumbersMidSquare(seed, n, numbers = numbers):\n",
        "    \n",
        "    if len(numbers) == n:\n",
        "        return numbers\n",
        "\n",
        "    x = seed**2\n",
        "    ceros = \"0\" * (8 - len(str(x))) # obtiene la cantidad de ceros para que sea de 8 digitos\n",
        "    x = ceros + str(x)\n",
        "\n",
        "    numbers.append(int(x[2:6]))\n",
        "    print(numbers[-1])\n",
        "    return randNumbersMidSquare(seed = int(numbers[-1]), n = n, numbers = numbers)\n",
        "\n",
        "\n",
        "randNumbersMidSquare(seed = 7287, n = 10)\n",
        "\n",
        "print(numbers)\n"
      ],
      "execution_count": null,
      "outputs": []
    },
    {
      "cell_type": "code",
      "metadata": {
        "id": "PxwGm3V3XVBX"
      },
      "source": [
        "\"\"\" implementacion del medio del cuadrado con lambda\"\"\"\n",
        "\n",
        "def randNumbersMidSquareLambda(seed, n):\n",
        "    ret = [seed]\n",
        "    pad = lambda x: \"0\"*(8-len(x))+x\n",
        "    while len(ret)<n+1:\n",
        "        ret.append(int(pad(str(ret[-1]**2))[2:6]))\n",
        "    return ret[1:]\n"
      ],
      "execution_count": null,
      "outputs": []
    }
  ]
}